{
  "cells": [
    {
      "cell_type": "markdown",
      "metadata": {
        "id": "SxF34Mvf3ytC"
      },
      "source": [
        "<h1 align=\"center\">\n",
        "  <b>Universidad Autónoma de Chihuahua</b>\n",
        "</h1>\n",
        "<h2 align=\"center\">\n",
        "  <b>Facultad de Ingeniaría</b>\n",
        "</h2>\n",
        "<br>\n",
        "<p align = \"center\">\n",
        "  <a href=\"https://sega.uach.mx/\">\n",
        "     <img src=\"https://drive.google.com/uc?id=1n8NdPSF4WAZRxVomm74jf0zLU9ibdxqT\">\n",
        "  </a>\n",
        "</p>\n",
        "\n",
        "<h1 align=\"center\">\n",
        "  <b>Clasificador de calidad de vino tinto</b>\n",
        "</h1>\n",
        "<br>\n",
        "\n",
        "<h2 align=\"center\">\n",
        "  <b>Data Science</b>\n",
        "</h2>\n",
        "\n",
        "<h3 align=\"center\">\n",
        "  <b>Proyecto Segundo Parcial</b>\n",
        "</h3>\n",
        "<br>\n",
        "\n",
        "<p align=\"center\">\n",
        "  <b>Alumnos: </b><br>\n",
        "  Juan Luis Del Valle Sotelo - 338912 \n",
        "  <br>\n",
        "  Valeria Sofía Nevárez Juárez - 338811\n",
        "</p>\n",
        "<p align=\"center\">\n",
        "  <b>Profesor:</b>\n",
        "  Jesús Roberto López Santillán\n",
        "</p>\n",
        "<br>\n",
        "\n",
        "<p align=\"center\">\n",
        "  <b>Github:</b>\n",
        "  <a href='https://github.com/mus1cian/Wine-Quality-Prediction' >WineClassifier</a>\n",
        "</p>\n",
        "<p align=\"center\">\n",
        "  <b>Deployment:</b>\n",
        "  <a href='https://mus1cian-wine-quality-prediction-app-dck61g.streamlit.app/' >Streamlit</a>\n",
        "</p>\n",
        "\n",
        "<p align=\"left\">\n",
        "  A lunes 24 de abril de 2023\n",
        "</p>"
      ]
    },
    {
      "cell_type": "markdown",
      "metadata": {
        "id": "MXInaKTC80jD"
      },
      "source": [
        "# 1. Variable Declaration"
      ]
    },
    {
      "cell_type": "code",
      "execution_count": 129,
      "metadata": {
        "id": "qmI5fNkq9HD5"
      },
      "outputs": [],
      "source": [
        "test_set_size = 20 #@param {type:\"slider\", min:0, max:50, step:1}"
      ]
    },
    {
      "cell_type": "code",
      "source": [],
      "metadata": {
        "id": "2lKC3qXfHHVS"
      },
      "execution_count": null,
      "outputs": []
    },
    {
      "cell_type": "markdown",
      "metadata": {
        "id": "ECSDhVRp9LPl"
      },
      "source": [
        "#2. Get the Data"
      ]
    },
    {
      "cell_type": "markdown",
      "metadata": {
        "id": "5rDPd9DR9Zef"
      },
      "source": [
        "##2.1 Download the Data"
      ]
    },
    {
      "cell_type": "code",
      "execution_count": 130,
      "metadata": {
        "id": "xJSIIuAd32r5"
      },
      "outputs": [],
      "source": [
        "# Code to read csv file into Colaboratory:\n",
        "!pip install -U -q PyDrive\n",
        "from pydrive.auth import GoogleAuth\n",
        "from pydrive.drive import GoogleDrive\n",
        "import pandas as pd\n",
        "from google.colab import auth\n",
        "import pandas as pd\n",
        "from sklearn.svm import SVC\n",
        "from sklearn.model_selection import cross_val_score\n",
        "from oauth2client.client import GoogleCredentials\n",
        "auth.authenticate_user()\n",
        "gauth = GoogleAuth()\n",
        "gauth.credentials = GoogleCredentials.get_application_default()\n",
        "drive = GoogleDrive(gauth)\n",
        "\n",
        "link = 'https://drive.google.com/open?id=1hj8LXmHOygwsJnXKGr5m6SUEqkpbm-Ma'\n",
        "fluff, id = link.split('=')\n",
        "downloaded = drive.CreateFile({'id':id}) \n",
        "downloaded.GetContentFile('wine_quality.csv')  \n",
        "red_wine = pd.read_csv('wine_quality.csv')"
      ]
    },
    {
      "cell_type": "markdown",
      "metadata": {
        "id": "_1-Yi1qn9iwV"
      },
      "source": [
        "##2.2 Load and look at the data"
      ]
    },
    {
      "cell_type": "code",
      "execution_count": 131,
      "metadata": {
        "colab": {
          "base_uri": "https://localhost:8080/",
          "height": 268
        },
        "id": "LlBXpkip8mgC",
        "outputId": "81bf898a-0df7-45ab-f00c-25b44ad6a388"
      },
      "outputs": [
        {
          "output_type": "execute_result",
          "data": {
            "text/plain": [
              "   fixed acidity  volatile acidity  citric acid  residual sugar  chlorides  \\\n",
              "0            7.4              0.70         0.00             1.9      0.076   \n",
              "1            7.8              0.88         0.00             2.6      0.098   \n",
              "2            7.8              0.76         0.04             2.3      0.092   \n",
              "3           11.2              0.28         0.56             1.9      0.075   \n",
              "4            7.4              0.70         0.00             1.9      0.076   \n",
              "\n",
              "   free sulfur dioxide  total sulfur dioxide  density    pH  sulphates  \\\n",
              "0                 11.0                  34.0   0.9978  3.51       0.56   \n",
              "1                 25.0                  67.0   0.9968  3.20       0.68   \n",
              "2                 15.0                  54.0   0.9970  3.26       0.65   \n",
              "3                 17.0                  60.0   0.9980  3.16       0.58   \n",
              "4                 11.0                  34.0   0.9978  3.51       0.56   \n",
              "\n",
              "   alcohol  quality  \n",
              "0      9.4        5  \n",
              "1      9.8        5  \n",
              "2      9.8        5  \n",
              "3      9.8        6  \n",
              "4      9.4        5  "
            ],
            "text/html": [
              "\n",
              "  <div id=\"df-4699792a-857b-414a-b341-6d604d1c2b83\">\n",
              "    <div class=\"colab-df-container\">\n",
              "      <div>\n",
              "<style scoped>\n",
              "    .dataframe tbody tr th:only-of-type {\n",
              "        vertical-align: middle;\n",
              "    }\n",
              "\n",
              "    .dataframe tbody tr th {\n",
              "        vertical-align: top;\n",
              "    }\n",
              "\n",
              "    .dataframe thead th {\n",
              "        text-align: right;\n",
              "    }\n",
              "</style>\n",
              "<table border=\"1\" class=\"dataframe\">\n",
              "  <thead>\n",
              "    <tr style=\"text-align: right;\">\n",
              "      <th></th>\n",
              "      <th>fixed acidity</th>\n",
              "      <th>volatile acidity</th>\n",
              "      <th>citric acid</th>\n",
              "      <th>residual sugar</th>\n",
              "      <th>chlorides</th>\n",
              "      <th>free sulfur dioxide</th>\n",
              "      <th>total sulfur dioxide</th>\n",
              "      <th>density</th>\n",
              "      <th>pH</th>\n",
              "      <th>sulphates</th>\n",
              "      <th>alcohol</th>\n",
              "      <th>quality</th>\n",
              "    </tr>\n",
              "  </thead>\n",
              "  <tbody>\n",
              "    <tr>\n",
              "      <th>0</th>\n",
              "      <td>7.4</td>\n",
              "      <td>0.70</td>\n",
              "      <td>0.00</td>\n",
              "      <td>1.9</td>\n",
              "      <td>0.076</td>\n",
              "      <td>11.0</td>\n",
              "      <td>34.0</td>\n",
              "      <td>0.9978</td>\n",
              "      <td>3.51</td>\n",
              "      <td>0.56</td>\n",
              "      <td>9.4</td>\n",
              "      <td>5</td>\n",
              "    </tr>\n",
              "    <tr>\n",
              "      <th>1</th>\n",
              "      <td>7.8</td>\n",
              "      <td>0.88</td>\n",
              "      <td>0.00</td>\n",
              "      <td>2.6</td>\n",
              "      <td>0.098</td>\n",
              "      <td>25.0</td>\n",
              "      <td>67.0</td>\n",
              "      <td>0.9968</td>\n",
              "      <td>3.20</td>\n",
              "      <td>0.68</td>\n",
              "      <td>9.8</td>\n",
              "      <td>5</td>\n",
              "    </tr>\n",
              "    <tr>\n",
              "      <th>2</th>\n",
              "      <td>7.8</td>\n",
              "      <td>0.76</td>\n",
              "      <td>0.04</td>\n",
              "      <td>2.3</td>\n",
              "      <td>0.092</td>\n",
              "      <td>15.0</td>\n",
              "      <td>54.0</td>\n",
              "      <td>0.9970</td>\n",
              "      <td>3.26</td>\n",
              "      <td>0.65</td>\n",
              "      <td>9.8</td>\n",
              "      <td>5</td>\n",
              "    </tr>\n",
              "    <tr>\n",
              "      <th>3</th>\n",
              "      <td>11.2</td>\n",
              "      <td>0.28</td>\n",
              "      <td>0.56</td>\n",
              "      <td>1.9</td>\n",
              "      <td>0.075</td>\n",
              "      <td>17.0</td>\n",
              "      <td>60.0</td>\n",
              "      <td>0.9980</td>\n",
              "      <td>3.16</td>\n",
              "      <td>0.58</td>\n",
              "      <td>9.8</td>\n",
              "      <td>6</td>\n",
              "    </tr>\n",
              "    <tr>\n",
              "      <th>4</th>\n",
              "      <td>7.4</td>\n",
              "      <td>0.70</td>\n",
              "      <td>0.00</td>\n",
              "      <td>1.9</td>\n",
              "      <td>0.076</td>\n",
              "      <td>11.0</td>\n",
              "      <td>34.0</td>\n",
              "      <td>0.9978</td>\n",
              "      <td>3.51</td>\n",
              "      <td>0.56</td>\n",
              "      <td>9.4</td>\n",
              "      <td>5</td>\n",
              "    </tr>\n",
              "  </tbody>\n",
              "</table>\n",
              "</div>\n",
              "      <button class=\"colab-df-convert\" onclick=\"convertToInteractive('df-4699792a-857b-414a-b341-6d604d1c2b83')\"\n",
              "              title=\"Convert this dataframe to an interactive table.\"\n",
              "              style=\"display:none;\">\n",
              "        \n",
              "  <svg xmlns=\"http://www.w3.org/2000/svg\" height=\"24px\"viewBox=\"0 0 24 24\"\n",
              "       width=\"24px\">\n",
              "    <path d=\"M0 0h24v24H0V0z\" fill=\"none\"/>\n",
              "    <path d=\"M18.56 5.44l.94 2.06.94-2.06 2.06-.94-2.06-.94-.94-2.06-.94 2.06-2.06.94zm-11 1L8.5 8.5l.94-2.06 2.06-.94-2.06-.94L8.5 2.5l-.94 2.06-2.06.94zm10 10l.94 2.06.94-2.06 2.06-.94-2.06-.94-.94-2.06-.94 2.06-2.06.94z\"/><path d=\"M17.41 7.96l-1.37-1.37c-.4-.4-.92-.59-1.43-.59-.52 0-1.04.2-1.43.59L10.3 9.45l-7.72 7.72c-.78.78-.78 2.05 0 2.83L4 21.41c.39.39.9.59 1.41.59.51 0 1.02-.2 1.41-.59l7.78-7.78 2.81-2.81c.8-.78.8-2.07 0-2.86zM5.41 20L4 18.59l7.72-7.72 1.47 1.35L5.41 20z\"/>\n",
              "  </svg>\n",
              "      </button>\n",
              "      \n",
              "  <style>\n",
              "    .colab-df-container {\n",
              "      display:flex;\n",
              "      flex-wrap:wrap;\n",
              "      gap: 12px;\n",
              "    }\n",
              "\n",
              "    .colab-df-convert {\n",
              "      background-color: #E8F0FE;\n",
              "      border: none;\n",
              "      border-radius: 50%;\n",
              "      cursor: pointer;\n",
              "      display: none;\n",
              "      fill: #1967D2;\n",
              "      height: 32px;\n",
              "      padding: 0 0 0 0;\n",
              "      width: 32px;\n",
              "    }\n",
              "\n",
              "    .colab-df-convert:hover {\n",
              "      background-color: #E2EBFA;\n",
              "      box-shadow: 0px 1px 2px rgba(60, 64, 67, 0.3), 0px 1px 3px 1px rgba(60, 64, 67, 0.15);\n",
              "      fill: #174EA6;\n",
              "    }\n",
              "\n",
              "    [theme=dark] .colab-df-convert {\n",
              "      background-color: #3B4455;\n",
              "      fill: #D2E3FC;\n",
              "    }\n",
              "\n",
              "    [theme=dark] .colab-df-convert:hover {\n",
              "      background-color: #434B5C;\n",
              "      box-shadow: 0px 1px 3px 1px rgba(0, 0, 0, 0.15);\n",
              "      filter: drop-shadow(0px 1px 2px rgba(0, 0, 0, 0.3));\n",
              "      fill: #FFFFFF;\n",
              "    }\n",
              "  </style>\n",
              "\n",
              "      <script>\n",
              "        const buttonEl =\n",
              "          document.querySelector('#df-4699792a-857b-414a-b341-6d604d1c2b83 button.colab-df-convert');\n",
              "        buttonEl.style.display =\n",
              "          google.colab.kernel.accessAllowed ? 'block' : 'none';\n",
              "\n",
              "        async function convertToInteractive(key) {\n",
              "          const element = document.querySelector('#df-4699792a-857b-414a-b341-6d604d1c2b83');\n",
              "          const dataTable =\n",
              "            await google.colab.kernel.invokeFunction('convertToInteractive',\n",
              "                                                     [key], {});\n",
              "          if (!dataTable) return;\n",
              "\n",
              "          const docLinkHtml = 'Like what you see? Visit the ' +\n",
              "            '<a target=\"_blank\" href=https://colab.research.google.com/notebooks/data_table.ipynb>data table notebook</a>'\n",
              "            + ' to learn more about interactive tables.';\n",
              "          element.innerHTML = '';\n",
              "          dataTable['output_type'] = 'display_data';\n",
              "          await google.colab.output.renderOutput(dataTable, element);\n",
              "          const docLink = document.createElement('div');\n",
              "          docLink.innerHTML = docLinkHtml;\n",
              "          element.appendChild(docLink);\n",
              "        }\n",
              "      </script>\n",
              "    </div>\n",
              "  </div>\n",
              "  "
            ]
          },
          "metadata": {},
          "execution_count": 131
        }
      ],
      "source": [
        "red_wine.head()"
      ]
    },
    {
      "cell_type": "markdown",
      "metadata": {
        "id": "lx2REvtJ-LUR"
      },
      "source": [
        "##2.3 Create a Test Set"
      ]
    },
    {
      "cell_type": "code",
      "execution_count": 132,
      "metadata": {
        "id": "JUGh0QLk9xpP"
      },
      "outputs": [],
      "source": [
        "from sklearn.model_selection import train_test_split"
      ]
    },
    {
      "cell_type": "code",
      "execution_count": 133,
      "metadata": {
        "colab": {
          "base_uri": "https://localhost:8080/"
        },
        "id": "1UJWs4xA-myS",
        "outputId": "e75326c6-bd4f-40b0-ce66-25a4ef6a1d05"
      },
      "outputs": [
        {
          "output_type": "stream",
          "name": "stdout",
          "text": [
            "<class 'pandas.core.frame.DataFrame'>\n",
            "RangeIndex: 1599 entries, 0 to 1598\n",
            "Data columns (total 12 columns):\n",
            " #   Column                Non-Null Count  Dtype  \n",
            "---  ------                --------------  -----  \n",
            " 0   fixed acidity         1599 non-null   float64\n",
            " 1   volatile acidity      1599 non-null   float64\n",
            " 2   citric acid           1599 non-null   float64\n",
            " 3   residual sugar        1599 non-null   float64\n",
            " 4   chlorides             1599 non-null   float64\n",
            " 5   free sulfur dioxide   1599 non-null   float64\n",
            " 6   total sulfur dioxide  1599 non-null   float64\n",
            " 7   density               1599 non-null   float64\n",
            " 8   pH                    1599 non-null   float64\n",
            " 9   sulphates             1599 non-null   float64\n",
            " 10  alcohol               1599 non-null   float64\n",
            " 11  quality               1599 non-null   int64  \n",
            "dtypes: float64(11), int64(1)\n",
            "memory usage: 150.0 KB\n"
          ]
        }
      ],
      "source": [
        "red_wine.info()"
      ]
    },
    {
      "cell_type": "markdown",
      "metadata": {
        "id": "ivii0jOJA7je"
      },
      "source": [
        "##2.4 Representative Test Set"
      ]
    },
    {
      "cell_type": "code",
      "execution_count": 134,
      "metadata": {
        "colab": {
          "base_uri": "https://localhost:8080/",
          "height": 448
        },
        "id": "jHTEe9KWBQYX",
        "outputId": "458735d0-9155-41ad-8357-6933bd4fea06"
      },
      "outputs": [
        {
          "output_type": "execute_result",
          "data": {
            "text/plain": [
              "<Axes: >"
            ]
          },
          "metadata": {},
          "execution_count": 134
        },
        {
          "output_type": "display_data",
          "data": {
            "text/plain": [
              "<Figure size 640x480 with 1 Axes>"
            ],
            "image/png": "[encoded data removed]"
          },
          "metadata": {}
        }
      ],
      "source": [
        "red_wine[\"quality\"].hist(bins = 6)"
      ]
    },
    {
      "cell_type": "markdown",
      "metadata": {
        "id": "wTk2s9VvA3wC"
      },
      "source": [
        "#3. Discover and Visualize the Data to Gain Insights"
      ]
    },
    {
      "cell_type": "code",
      "execution_count": 135,
      "metadata": {
        "colab": {
          "base_uri": "https://localhost:8080/",
          "height": 1000
        },
        "id": "xkwvl9Fq-vO0",
        "outputId": "26c653f6-5db6-437e-cb0b-9a88aa023075"
      },
      "outputs": [
        {
          "output_type": "display_data",
          "data": {
            "text/plain": [
              "<Figure size 1500x1500 with 12 Axes>"
            ],
            "image/png": "[encoded data removed]"
          },
          "metadata": {}
        }
      ],
      "source": [
        "import matplotlib.pyplot as plt\n",
        "import seaborn as sns\n",
        "fig, axes = plt.subplots(nrows=4, ncols=3, figsize=(15, 15))\n",
        "\n",
        "for i, column in enumerate(red_wine.columns[:-1]):\n",
        "    row = i // 3\n",
        "    col = i % 3\n",
        "    sns.barplot(x='quality', y=column, data=red_wine, ax=axes[row, col])\n",
        "    axes[row, col].set_xlabel('Quality', fontsize=12)\n",
        "    axes[row, col].set_ylabel(column.capitalize(), fontsize=12)\n",
        "\n",
        "plt.subplots_adjust(wspace=0.3, hspace=0.5)\n",
        "\n",
        "plt.show()"
      ]
    },
    {
      "cell_type": "markdown",
      "metadata": {
        "id": "wPxOlTtKrXwM"
      },
      "source": [
        "# 4. Prepare the data for Machine Learning Algorithms\n"
      ]
    },
    {
      "cell_type": "markdown",
      "metadata": {
        "id": "epMh2fT8D4PU"
      },
      "source": [
        "## 4.1 Classifying quality and assigning labels"
      ]
    },
    {
      "cell_type": "code",
      "execution_count": 136,
      "metadata": {
        "id": "5kFlfYjXrbsy"
      },
      "outputs": [],
      "source": [
        "bins = (2, 5, 6, 8)\n",
        "group_names = ['bad', 'average', 'good']\n",
        "red_wine['quality'] = pd.cut(red_wine['quality'], bins = bins, labels = group_names)"
      ]
    },
    {
      "cell_type": "code",
      "execution_count": 137,
      "metadata": {
        "id": "OctgvayKAzY-"
      },
      "outputs": [],
      "source": [
        "from sklearn.preprocessing import StandardScaler, LabelEncoder\n",
        "\n",
        "label_quality = LabelEncoder()"
      ]
    },
    {
      "cell_type": "code",
      "execution_count": 138,
      "metadata": {
        "id": "hJsekRaBA1Nu"
      },
      "outputs": [],
      "source": [
        "red_wine['quality'] = label_quality.fit_transform(red_wine['quality'])"
      ]
    },
    {
      "cell_type": "code",
      "execution_count": 139,
      "metadata": {
        "colab": {
          "base_uri": "https://localhost:8080/"
        },
        "id": "xWJwLeaZA3vU",
        "outputId": "91aea9db-3e9b-4237-9f7b-a3b9ef7cb699"
      },
      "outputs": [
        {
          "output_type": "execute_result",
          "data": {
            "text/plain": [
              "1    744\n",
              "0    638\n",
              "2    217\n",
              "Name: quality, dtype: int64"
            ]
          },
          "metadata": {},
          "execution_count": 139
        }
      ],
      "source": [
        "red_wine['quality'].value_counts()"
      ]
    },
    {
      "cell_type": "code",
      "execution_count": 140,
      "metadata": {
        "colab": {
          "base_uri": "https://localhost:8080/",
          "height": 467
        },
        "id": "F4WmoKB0Bk-e",
        "outputId": "700d62b5-dded-447f-d5fd-983c4cb58636"
      },
      "outputs": [
        {
          "output_type": "execute_result",
          "data": {
            "text/plain": [
              "<Axes: xlabel='quality', ylabel='count'>"
            ]
          },
          "metadata": {},
          "execution_count": 140
        },
        {
          "output_type": "display_data",
          "data": {
            "text/plain": [
              "<Figure size 640x480 with 1 Axes>"
            ],
            "image/png": "[encoded data removed]"
          },
          "metadata": {}
        }
      ],
      "source": [
        "sns.countplot(x='quality', data=red_wine, order=[0,1,2])\n"
      ]
    },
    {
      "cell_type": "code",
      "execution_count": 141,
      "metadata": {
        "colab": {
          "base_uri": "https://localhost:8080/"
        },
        "id": "hgGA_rniwpbw",
        "outputId": "908377d9-3590-43f3-f1bd-44aa6c28078f"
      },
      "outputs": [
        {
          "output_type": "stream",
          "name": "stdout",
          "text": [
            "0       1\n",
            "1       1\n",
            "2       1\n",
            "3       0\n",
            "4       1\n",
            "       ..\n",
            "1594    1\n",
            "1595    0\n",
            "1596    0\n",
            "1597    1\n",
            "1598    0\n",
            "Name: quality, Length: 1599, dtype: int64\n",
            "<class 'pandas.core.series.Series'>\n"
          ]
        }
      ],
      "source": [
        "red_wine['quality']\n",
        "print(red_wine['quality'])\n",
        "print(type(red_wine['quality']))"
      ]
    },
    {
      "cell_type": "code",
      "source": [
        "array = red_wine['quality']\n",
        "print(array)\n",
        "c = array.value_counts()[0]\n",
        "\n",
        "print(c)"
      ],
      "metadata": {
        "colab": {
          "base_uri": "https://localhost:8080/"
        },
        "id": "k_uN8Z4ShyJ3",
        "outputId": "a1a34682-027c-4099-f28d-5962cfa45408"
      },
      "execution_count": 142,
      "outputs": [
        {
          "output_type": "stream",
          "name": "stdout",
          "text": [
            "0       1\n",
            "1       1\n",
            "2       1\n",
            "3       0\n",
            "4       1\n",
            "       ..\n",
            "1594    1\n",
            "1595    0\n",
            "1596    0\n",
            "1597    1\n",
            "1598    0\n",
            "Name: quality, Length: 1599, dtype: int64\n",
            "638\n"
          ]
        }
      ]
    },
    {
      "cell_type": "code",
      "execution_count": 143,
      "metadata": {
        "id": "bIJjQlBJBZd-"
      },
      "outputs": [],
      "source": [
        "X = red_wine.drop('quality', axis = 1)\n",
        "y = red_wine['quality'].copy()"
      ]
    },
    {
      "cell_type": "code",
      "source": [
        "print(X)"
      ],
      "metadata": {
        "colab": {
          "base_uri": "https://localhost:8080/"
        },
        "id": "mB2pZRQvndLK",
        "outputId": "fb6323d6-d149-4f8a-8d1d-de35ef8dab76"
      },
      "execution_count": 144,
      "outputs": [
        {
          "output_type": "stream",
          "name": "stdout",
          "text": [
            "      fixed acidity  volatile acidity  citric acid  residual sugar  chlorides  \\\n",
            "0               7.4             0.700         0.00             1.9      0.076   \n",
            "1               7.8             0.880         0.00             2.6      0.098   \n",
            "2               7.8             0.760         0.04             2.3      0.092   \n",
            "3              11.2             0.280         0.56             1.9      0.075   \n",
            "4               7.4             0.700         0.00             1.9      0.076   \n",
            "...             ...               ...          ...             ...        ...   \n",
            "1594            6.2             0.600         0.08             2.0      0.090   \n",
            "1595            5.9             0.550         0.10             2.2      0.062   \n",
            "1596            6.3             0.510         0.13             2.3      0.076   \n",
            "1597            5.9             0.645         0.12             2.0      0.075   \n",
            "1598            6.0             0.310         0.47             3.6      0.067   \n",
            "\n",
            "      free sulfur dioxide  total sulfur dioxide  density    pH  sulphates  \\\n",
            "0                    11.0                  34.0  0.99780  3.51       0.56   \n",
            "1                    25.0                  67.0  0.99680  3.20       0.68   \n",
            "2                    15.0                  54.0  0.99700  3.26       0.65   \n",
            "3                    17.0                  60.0  0.99800  3.16       0.58   \n",
            "4                    11.0                  34.0  0.99780  3.51       0.56   \n",
            "...                   ...                   ...      ...   ...        ...   \n",
            "1594                 32.0                  44.0  0.99490  3.45       0.58   \n",
            "1595                 39.0                  51.0  0.99512  3.52       0.76   \n",
            "1596                 29.0                  40.0  0.99574  3.42       0.75   \n",
            "1597                 32.0                  44.0  0.99547  3.57       0.71   \n",
            "1598                 18.0                  42.0  0.99549  3.39       0.66   \n",
            "\n",
            "      alcohol  \n",
            "0         9.4  \n",
            "1         9.8  \n",
            "2         9.8  \n",
            "3         9.8  \n",
            "4         9.4  \n",
            "...       ...  \n",
            "1594     10.5  \n",
            "1595     11.2  \n",
            "1596     11.0  \n",
            "1597     10.2  \n",
            "1598     11.0  \n",
            "\n",
            "[1599 rows x 11 columns]\n"
          ]
        }
      ]
    },
    {
      "cell_type": "code",
      "execution_count": 145,
      "metadata": {
        "id": "HC1crKf0FLTJ"
      },
      "outputs": [],
      "source": [
        "from sklearn.model_selection import train_test_split, StratifiedShuffleSplit\n",
        "\n",
        "strat_shuff_split = StratifiedShuffleSplit(n_splits=1, test_size=test_set_size, random_state=42)\n",
        "\n",
        "for train_index, test_index in strat_shuff_split.split(X, y):\n",
        "    X_train, X_test = X.iloc[train_index], X.iloc[test_index]\n",
        "    y_train, y_test = y.iloc[train_index], y.iloc[test_index]"
      ]
    },
    {
      "cell_type": "markdown",
      "metadata": {
        "id": "vefLUHH5Gy83"
      },
      "source": [
        "## 4.2 Transformation Pipeline"
      ]
    },
    {
      "cell_type": "code",
      "execution_count": 146,
      "metadata": {
        "id": "UqYiMq2jG1mG"
      },
      "outputs": [],
      "source": [
        "from sklearn.pipeline import Pipeline\n",
        "from sklearn.preprocessing import StandardScaler\n",
        "from sklearn.impute import SimpleImputer\n",
        "from sklearn.decomposition import PCA"
      ]
    },
    {
      "cell_type": "code",
      "execution_count": 147,
      "metadata": {
        "id": "1usZTXPBG25M"
      },
      "outputs": [],
      "source": [
        "full_pipeline = Pipeline([\n",
        "    ('imputer', SimpleImputer(strategy=\"median\")),\n",
        "    ('std_scaler', StandardScaler())\n",
        "])\n",
        "\n",
        "red_wine_prepared = full_pipeline.fit_transform(X_train)\n",
        "red_test = full_pipeline.transform(X_test)"
      ]
    },
    {
      "cell_type": "code",
      "source": [
        "red_wine_prepared[0]"
      ],
      "metadata": {
        "colab": {
          "base_uri": "https://localhost:8080/"
        },
        "id": "3-Ny6OnXoLBj",
        "outputId": "e4322872-7f8c-432e-ad54-7300c7e7b017"
      },
      "execution_count": 148,
      "outputs": [
        {
          "output_type": "execute_result",
          "data": {
            "text/plain": [
              "array([-0.98963013,  1.10270258, -0.36513127,  3.75716056, -0.30866228,\n",
              "        1.25019964,  0.98477552,  0.5061313 , -0.13280162, -0.69577545,\n",
              "       -1.1493235 ])"
            ]
          },
          "metadata": {},
          "execution_count": 148
        }
      ]
    },
    {
      "cell_type": "code",
      "source": [
        "red_test[0]"
      ],
      "metadata": {
        "colab": {
          "base_uri": "https://localhost:8080/"
        },
        "id": "KHGwXdf9oYEh",
        "outputId": "b06b25d1-bbc9-42a5-b0b4-ff654e60d783"
      },
      "execution_count": 149,
      "outputs": [
        {
          "output_type": "execute_result",
          "data": {
            "text/plain": [
              "array([-0.58702489, -0.09922057, -0.46795671, -0.31139212, -0.37210365,\n",
              "       -0.37038704, -0.56106156,  0.49551588,  1.36083617,  0.42353172,\n",
              "       -0.86688916])"
            ]
          },
          "metadata": {},
          "execution_count": 149
        }
      ]
    },
    {
      "cell_type": "markdown",
      "metadata": {
        "id": "uxsg_TrYFGgy"
      },
      "source": [
        "# 5. Select and Train a Model"
      ]
    },
    {
      "cell_type": "markdown",
      "metadata": {
        "id": "hLq4t6qbFO3s"
      },
      "source": [
        "##5.1 Support Vector Classifier"
      ]
    },
    {
      "cell_type": "markdown",
      "metadata": {
        "id": "ZAZSM92TReib"
      },
      "source": [
        "### 5.1.1 SVC Prediction\n",
        "\n",
        "\n"
      ]
    },
    {
      "cell_type": "code",
      "execution_count": 150,
      "metadata": {
        "colab": {
          "base_uri": "https://localhost:8080/"
        },
        "id": "r8hkMz2PGr3W",
        "outputId": "72ddd1e8-6f52-4132-9271-cf8a72ff3ecb"
      },
      "outputs": [
        {
          "output_type": "execute_result",
          "data": {
            "text/plain": [
              "array([0, 0, 1, 1, 1, 1, 0, 0, 1, 1, 2, 0, 0, 0, 1, 0, 0, 0, 1, 0])"
            ]
          },
          "metadata": {},
          "execution_count": 150
        }
      ],
      "source": [
        "from sklearn.svm import SVC\n",
        "import numpy as np\n",
        "from sklearn.metrics import mean_squared_error\n",
        "\n",
        "svc_reg = SVC(probability=True)\n",
        "svc_reg.fit(red_wine_prepared, y_train)\n",
        "\n",
        "wine_predictions = svc_reg.predict(red_test)\n",
        "\n",
        "wine_predictions"
      ]
    },
    {
      "cell_type": "markdown",
      "metadata": {
        "id": "hecjB4UERgAi"
      },
      "source": [
        "### 5.1.2 SVC Metrics"
      ]
    },
    {
      "cell_type": "code",
      "execution_count": 151,
      "metadata": {
        "colab": {
          "base_uri": "https://localhost:8080/"
        },
        "id": "lcC-46EgVNmy",
        "outputId": "2039c89e-518d-4131-84fc-595508649a46"
      },
      "outputs": [
        {
          "output_type": "stream",
          "name": "stdout",
          "text": [
            "[0.5  0.5  0.5  0.75 0.75]\n"
          ]
        },
        {
          "output_type": "stream",
          "name": "stderr",
          "text": [
            "/usr/local/lib/python3.9/dist-packages/sklearn/model_selection/_split.py:700: UserWarning: The least populated class in y has only 3 members, which is less than n_splits=5.\n",
            "  warnings.warn(\n"
          ]
        }
      ],
      "source": [
        "from sklearn.svm import SVC\n",
        "from sklearn.metrics import confusion_matrix, classification_report, accuracy_score, recall_score\n",
        "\n",
        "accuracy = cross_val_score(svc_reg, red_test, y_test,\n",
        "                        scoring=\"accuracy\", cv=5)\n",
        "\n",
        "print(accuracy)"
      ]
    },
    {
      "cell_type": "code",
      "execution_count": 152,
      "metadata": {
        "colab": {
          "base_uri": "https://localhost:8080/"
        },
        "id": "WujKRYGtfajg",
        "outputId": "97ee48f9-8f16-4b74-cd36-533fdc51e5b2"
      },
      "outputs": [
        {
          "output_type": "execute_result",
          "data": {
            "text/plain": [
              "0.5046296296296297"
            ]
          },
          "metadata": {},
          "execution_count": 152
        }
      ],
      "source": [
        "recall_score(y_test, wine_predictions, average='macro')"
      ]
    },
    {
      "cell_type": "code",
      "execution_count": 153,
      "metadata": {
        "colab": {
          "base_uri": "https://localhost:8080/"
        },
        "id": "0TVITGH-ix7-",
        "outputId": "b65a5b38-60a8-4cd7-b31d-5bd84d70ae7b"
      },
      "outputs": [
        {
          "output_type": "execute_result",
          "data": {
            "text/plain": [
              "0.5381836945304438"
            ]
          },
          "metadata": {},
          "execution_count": 153
        }
      ],
      "source": [
        "from sklearn.metrics import f1_score, roc_auc_score\n",
        "\n",
        "f1_score_default = f1_score(y_test, wine_predictions, average='macro')\n",
        "f1_score_default"
      ]
    },
    {
      "cell_type": "code",
      "execution_count": 154,
      "metadata": {
        "id": "wkm7WgHaHkIB"
      },
      "outputs": [],
      "source": [
        "y_pred = svc_reg.predict_proba(red_test)"
      ]
    },
    {
      "cell_type": "code",
      "execution_count": 155,
      "metadata": {
        "colab": {
          "base_uri": "https://localhost:8080/"
        },
        "id": "SG2xldInlM-f",
        "outputId": "4c59efbf-0c7e-4724-8161-58d7f58b49eb"
      },
      "outputs": [
        {
          "output_type": "execute_result",
          "data": {
            "text/plain": [
              "0.7640498118439294"
            ]
          },
          "metadata": {},
          "execution_count": 155
        }
      ],
      "source": [
        "roc_auc_score(y_test, y_pred, multi_class='ovr')"
      ]
    },
    {
      "cell_type": "code",
      "execution_count": 156,
      "metadata": {
        "colab": {
          "base_uri": "https://localhost:8080/"
        },
        "id": "w_Cs746zes_8",
        "outputId": "10163cfc-9772-4029-817c-9a9b1508c5cc"
      },
      "outputs": [
        {
          "output_type": "execute_result",
          "data": {
            "text/plain": [
              "0.55"
            ]
          },
          "metadata": {},
          "execution_count": 156
        }
      ],
      "source": [
        "from sklearn.metrics import precision_score, recall_score\n",
        "\n",
        "precision_score(y_test, wine_predictions, zero_division=0, average='micro')"
      ]
    },
    {
      "cell_type": "code",
      "execution_count": 157,
      "metadata": {
        "colab": {
          "base_uri": "https://localhost:8080/"
        },
        "id": "HUR7HB4JleJ3",
        "outputId": "623aa504-c3b1-4552-ff10-06ea9d8c628d"
      },
      "outputs": [
        {
          "output_type": "execute_result",
          "data": {
            "text/plain": [
              "array([[5, 3, 0],\n",
              "       [4, 5, 0],\n",
              "       [2, 0, 1]])"
            ]
          },
          "metadata": {},
          "execution_count": 157
        }
      ],
      "source": [
        "from sklearn.metrics import confusion_matrix\n",
        "conf_mx = confusion_matrix(y_test, wine_predictions)\n",
        "conf_mx"
      ]
    },
    {
      "cell_type": "code",
      "execution_count": 158,
      "metadata": {
        "colab": {
          "base_uri": "https://localhost:8080/",
          "height": 437
        },
        "id": "V22PE_NXl1bp",
        "outputId": "21d81189-93ab-4fa2-c300-0893f615e2b6"
      },
      "outputs": [
        {
          "output_type": "display_data",
          "data": {
            "text/plain": [
              "<Figure size 480x480 with 1 Axes>"
            ],
            "image/png": "[encoded data removed]"
          },
          "metadata": {}
        }
      ],
      "source": [
        "import matplotlib.pyplot as plt\n",
        "\n",
        "plt.matshow(conf_mx, cmap=plt.cm.pink)\n",
        "plt.show()"
      ]
    },
    {
      "cell_type": "code",
      "execution_count": 159,
      "metadata": {
        "colab": {
          "base_uri": "https://localhost:8080/"
        },
        "id": "al9OwiNcPVlC",
        "outputId": "73c1cbea-0810-4606-b125-518f4178d476"
      },
      "outputs": [
        {
          "output_type": "stream",
          "name": "stdout",
          "text": [
            "              precision    recall  f1-score   support\n",
            "\n",
            "           0       0.45      0.62      0.53         8\n",
            "           1       0.62      0.56      0.59         9\n",
            "           2       1.00      0.33      0.50         3\n",
            "\n",
            "    accuracy                           0.55        20\n",
            "   macro avg       0.69      0.50      0.54        20\n",
            "weighted avg       0.61      0.55      0.55        20\n",
            "\n"
          ]
        }
      ],
      "source": [
        "print(classification_report(y_test, wine_predictions))\n"
      ]
    },
    {
      "cell_type": "markdown",
      "metadata": {
        "id": "Ydme3aSuSLsG"
      },
      "source": [
        "### 5.1.3 SVC Grid-Search"
      ]
    },
    {
      "cell_type": "code",
      "execution_count": 160,
      "metadata": {
        "colab": {
          "base_uri": "https://localhost:8080/",
          "height": 118
        },
        "id": "KfP7Hu9ZSPx7",
        "outputId": "b04887d0-2355-4649-ec4d-eaf14d4388c9"
      },
      "outputs": [
        {
          "output_type": "execute_result",
          "data": {
            "text/plain": [
              "GridSearchCV(cv=10, estimator=SVC(probability=True),\n",
              "             param_grid=[{'C': [1, 11, 21, 31, 41, 51, 61, 71, 81, 91],\n",
              "                          'gamma': ['scale', 'auto'],\n",
              "                          'kernel': ['linear', 'poly', 'rbf', 'sigmoid']}],\n",
              "             return_train_score=True, scoring='neg_mean_squared_error')"
            ],
            "text/html": [
              "<style>#sk-container-id-4 {color: black;background-color: white;}#sk-container-id-4 pre{padding: 0;}#sk-container-id-4 div.sk-toggleable {background-color: white;}#sk-container-id-4 label.sk-toggleable__label {cursor: pointer;display: block;width: 100%;margin-bottom: 0;padding: 0.3em;box-sizing: border-box;text-align: center;}#sk-container-id-4 label.sk-toggleable__label-arrow:before {content: \"▸\";float: left;margin-right: 0.25em;color: #696969;}#sk-container-id-4 label.sk-toggleable__label-arrow:hover:before {color: black;}#sk-container-id-4 div.sk-estimator:hover label.sk-toggleable__label-arrow:before {color: black;}#sk-container-id-4 div.sk-toggleable__content {max-height: 0;max-width: 0;overflow: hidden;text-align: left;background-color: #f0f8ff;}#sk-container-id-4 div.sk-toggleable__content pre {margin: 0.2em;color: black;border-radius: 0.25em;background-color: #f0f8ff;}#sk-container-id-4 input.sk-toggleable__control:checked~div.sk-toggleable__content {max-height: 200px;max-width: 100%;overflow: auto;}#sk-container-id-4 input.sk-toggleable__control:checked~label.sk-toggleable__label-arrow:before {content: \"▾\";}#sk-container-id-4 div.sk-estimator input.sk-toggleable__control:checked~label.sk-toggleable__label {background-color: #d4ebff;}#sk-container-id-4 div.sk-label input.sk-toggleable__control:checked~label.sk-toggleable__label {background-color: #d4ebff;}#sk-container-id-4 input.sk-hidden--visually {border: 0;clip: rect(1px 1px 1px 1px);clip: rect(1px, 1px, 1px, 1px);height: 1px;margin: -1px;overflow: hidden;padding: 0;position: absolute;width: 1px;}#sk-container-id-4 div.sk-estimator {font-family: monospace;background-color: #f0f8ff;border: 1px dotted black;border-radius: 0.25em;box-sizing: border-box;margin-bottom: 0.5em;}#sk-container-id-4 div.sk-estimator:hover {background-color: #d4ebff;}#sk-container-id-4 div.sk-parallel-item::after {content: \"\";width: 100%;border-bottom: 1px solid gray;flex-grow: 1;}#sk-container-id-4 div.sk-label:hover label.sk-toggleable__label {background-color: #d4ebff;}#sk-container-id-4 div.sk-serial::before {content: \"\";position: absolute;border-left: 1px solid gray;box-sizing: border-box;top: 0;bottom: 0;left: 50%;z-index: 0;}#sk-container-id-4 div.sk-serial {display: flex;flex-direction: column;align-items: center;background-color: white;padding-right: 0.2em;padding-left: 0.2em;position: relative;}#sk-container-id-4 div.sk-item {position: relative;z-index: 1;}#sk-container-id-4 div.sk-parallel {display: flex;align-items: stretch;justify-content: center;background-color: white;position: relative;}#sk-container-id-4 div.sk-item::before, #sk-container-id-4 div.sk-parallel-item::before {content: \"\";position: absolute;border-left: 1px solid gray;box-sizing: border-box;top: 0;bottom: 0;left: 50%;z-index: -1;}#sk-container-id-4 div.sk-parallel-item {display: flex;flex-direction: column;z-index: 1;position: relative;background-color: white;}#sk-container-id-4 div.sk-parallel-item:first-child::after {align-self: flex-end;width: 50%;}#sk-container-id-4 div.sk-parallel-item:last-child::after {align-self: flex-start;width: 50%;}#sk-container-id-4 div.sk-parallel-item:only-child::after {width: 0;}#sk-container-id-4 div.sk-dashed-wrapped {border: 1px dashed gray;margin: 0 0.4em 0.5em 0.4em;box-sizing: border-box;padding-bottom: 0.4em;background-color: white;}#sk-container-id-4 div.sk-label label {font-family: monospace;font-weight: bold;display: inline-block;line-height: 1.2em;}#sk-container-id-4 div.sk-label-container {text-align: center;}#sk-container-id-4 div.sk-container {/* jupyter's `normalize.less` sets `[hidden] { display: none; }` but bootstrap.min.css set `[hidden] { display: none !important; }` so we also need the `!important` here to be able to override the default hidden behavior on the sphinx rendered scikit-learn.org. See: https://github.com/scikit-learn/scikit-learn/issues/21755 */display: inline-block !important;position: relative;}#sk-container-id-4 div.sk-text-repr-fallback {display: none;}</style><div id=\"sk-container-id-4\" class=\"sk-top-container\"><div class=\"sk-text-repr-fallback\"><pre>GridSearchCV(cv=10, estimator=SVC(probability=True),\n",
              "             param_grid=[{&#x27;C&#x27;: [1, 11, 21, 31, 41, 51, 61, 71, 81, 91],\n",
              "                          &#x27;gamma&#x27;: [&#x27;scale&#x27;, &#x27;auto&#x27;],\n",
              "                          &#x27;kernel&#x27;: [&#x27;linear&#x27;, &#x27;poly&#x27;, &#x27;rbf&#x27;, &#x27;sigmoid&#x27;]}],\n",
              "             return_train_score=True, scoring=&#x27;neg_mean_squared_error&#x27;)</pre><b>In a Jupyter environment, please rerun this cell to show the HTML representation or trust the notebook. <br />On GitHub, the HTML representation is unable to render, please try loading this page with nbviewer.org.</b></div><div class=\"sk-container\" hidden><div class=\"sk-item sk-dashed-wrapped\"><div class=\"sk-label-container\"><div class=\"sk-label sk-toggleable\"><input class=\"sk-toggleable__control sk-hidden--visually\" id=\"sk-estimator-id-10\" type=\"checkbox\" ><label for=\"sk-estimator-id-10\" class=\"sk-toggleable__label sk-toggleable__label-arrow\">GridSearchCV</label><div class=\"sk-toggleable__content\"><pre>GridSearchCV(cv=10, estimator=SVC(probability=True),\n",
              "             param_grid=[{&#x27;C&#x27;: [1, 11, 21, 31, 41, 51, 61, 71, 81, 91],\n",
              "                          &#x27;gamma&#x27;: [&#x27;scale&#x27;, &#x27;auto&#x27;],\n",
              "                          &#x27;kernel&#x27;: [&#x27;linear&#x27;, &#x27;poly&#x27;, &#x27;rbf&#x27;, &#x27;sigmoid&#x27;]}],\n",
              "             return_train_score=True, scoring=&#x27;neg_mean_squared_error&#x27;)</pre></div></div></div><div class=\"sk-parallel\"><div class=\"sk-parallel-item\"><div class=\"sk-item\"><div class=\"sk-label-container\"><div class=\"sk-label sk-toggleable\"><input class=\"sk-toggleable__control sk-hidden--visually\" id=\"sk-estimator-id-11\" type=\"checkbox\" ><label for=\"sk-estimator-id-11\" class=\"sk-toggleable__label sk-toggleable__label-arrow\">estimator: SVC</label><div class=\"sk-toggleable__content\"><pre>SVC(probability=True)</pre></div></div></div><div class=\"sk-serial\"><div class=\"sk-item\"><div class=\"sk-estimator sk-toggleable\"><input class=\"sk-toggleable__control sk-hidden--visually\" id=\"sk-estimator-id-12\" type=\"checkbox\" ><label for=\"sk-estimator-id-12\" class=\"sk-toggleable__label sk-toggleable__label-arrow\">SVC</label><div class=\"sk-toggleable__content\"><pre>SVC(probability=True)</pre></div></div></div></div></div></div></div></div></div></div>"
            ]
          },
          "metadata": {},
          "execution_count": 160
        }
      ],
      "source": [
        "from sklearn.model_selection import GridSearchCV\n",
        "\n",
        "param_grid = [\n",
        "    {'kernel': ['linear', 'poly', 'rbf', 'sigmoid'], 'C' : list(range(1, 100, 10)), 'gamma' :['scale', 'auto']},\n",
        "]\n",
        "\n",
        "svc_reg = SVC(probability=True)\n",
        "\n",
        "grid_search = GridSearchCV(svc_reg, param_grid, cv=10,\n",
        "                           scoring='neg_mean_squared_error',\n",
        "                           return_train_score=True)\n",
        "grid_search.fit(red_wine_prepared, y_train)"
      ]
    },
    {
      "cell_type": "code",
      "execution_count": 161,
      "metadata": {
        "id": "Z5cgmD2DSd8f"
      },
      "outputs": [],
      "source": [
        "svc_best_search = grid_search.best_estimator_"
      ]
    },
    {
      "cell_type": "code",
      "execution_count": 162,
      "metadata": {
        "colab": {
          "base_uri": "https://localhost:8080/"
        },
        "id": "Jc0QEgrLSg13",
        "outputId": "e7b53f95-f5e5-4ed1-b5f6-1de35b2f2c67"
      },
      "outputs": [
        {
          "output_type": "stream",
          "name": "stdout",
          "text": [
            "0.868470442477687 {'C': 1, 'gamma': 'scale', 'kernel': 'linear'}\n",
            "0.8181801079388623 {'C': 1, 'gamma': 'scale', 'kernel': 'poly'}\n",
            "0.8045013649350604 {'C': 1, 'gamma': 'scale', 'kernel': 'rbf'}\n",
            "0.9320932740250333 {'C': 1, 'gamma': 'scale', 'kernel': 'sigmoid'}\n",
            "0.868470442477687 {'C': 1, 'gamma': 'auto', 'kernel': 'linear'}\n",
            "0.8212709732170271 {'C': 1, 'gamma': 'auto', 'kernel': 'poly'}\n",
            "0.8048971293634575 {'C': 1, 'gamma': 'auto', 'kernel': 'rbf'}\n",
            "0.9314486294058103 {'C': 1, 'gamma': 'auto', 'kernel': 'sigmoid'}\n",
            "0.8670140109424549 {'C': 11, 'gamma': 'scale', 'kernel': 'linear'}\n",
            "0.8135155973839535 {'C': 11, 'gamma': 'scale', 'kernel': 'poly'}\n",
            "0.7973768774584031 {'C': 11, 'gamma': 'scale', 'kernel': 'rbf'}\n",
            "0.9429463329510158 {'C': 11, 'gamma': 'scale', 'kernel': 'sigmoid'}\n",
            "0.8670140109424549 {'C': 11, 'gamma': 'auto', 'kernel': 'linear'}\n",
            "0.8142932211260148 {'C': 11, 'gamma': 'auto', 'kernel': 'poly'}\n",
            "0.7973768774584031 {'C': 11, 'gamma': 'auto', 'kernel': 'rbf'}\n",
            "0.9287266864275635 {'C': 11, 'gamma': 'auto', 'kernel': 'sigmoid'}\n",
            "0.8670140109424549 {'C': 21, 'gamma': 'scale', 'kernel': 'linear'}\n",
            "0.8065082361335322 {'C': 21, 'gamma': 'scale', 'kernel': 'poly'}\n",
            "0.7881908779695997 {'C': 21, 'gamma': 'scale', 'kernel': 'rbf'}\n",
            "0.9225969852160404 {'C': 21, 'gamma': 'scale', 'kernel': 'sigmoid'}\n",
            "0.8670140109424549 {'C': 21, 'gamma': 'auto', 'kernel': 'linear'}\n",
            "0.8049371959237573 {'C': 21, 'gamma': 'auto', 'kernel': 'poly'}\n",
            "0.7861808336206518 {'C': 21, 'gamma': 'auto', 'kernel': 'rbf'}\n",
            "0.9358635170014082 {'C': 21, 'gamma': 'auto', 'kernel': 'sigmoid'}\n",
            "0.8670140109424549 {'C': 31, 'gamma': 'scale', 'kernel': 'linear'}\n",
            "0.8013885796336266 {'C': 31, 'gamma': 'scale', 'kernel': 'poly'}\n",
            "0.7805303365176145 {'C': 31, 'gamma': 'scale', 'kernel': 'rbf'}\n",
            "0.929091229958298 {'C': 31, 'gamma': 'scale', 'kernel': 'sigmoid'}\n",
            "0.8670140109424549 {'C': 31, 'gamma': 'auto', 'kernel': 'linear'}\n",
            "0.7978267061433553 {'C': 31, 'gamma': 'auto', 'kernel': 'poly'}\n",
            "0.7841707778003119 {'C': 31, 'gamma': 'auto', 'kernel': 'rbf'}\n",
            "0.9212108140179323 {'C': 31, 'gamma': 'auto', 'kernel': 'sigmoid'}\n",
            "0.868472763384174 {'C': 41, 'gamma': 'scale', 'kernel': 'linear'}\n",
            "0.7990157615546586 {'C': 41, 'gamma': 'scale', 'kernel': 'poly'}\n",
            "0.7825497432245554 {'C': 41, 'gamma': 'scale', 'kernel': 'rbf'}\n",
            "0.9267039083971683 {'C': 41, 'gamma': 'scale', 'kernel': 'sigmoid'}\n",
            "0.868472763384174 {'C': 41, 'gamma': 'auto', 'kernel': 'linear'}\n",
            "0.8005984216711842 {'C': 41, 'gamma': 'auto', 'kernel': 'poly'}\n",
            "0.7845690903820025 {'C': 41, 'gamma': 'auto', 'kernel': 'rbf'}\n",
            "0.9222561016442644 {'C': 41, 'gamma': 'auto', 'kernel': 'sigmoid'}\n",
            "0.8670140109424549 {'C': 51, 'gamma': 'scale', 'kernel': 'linear'}\n",
            "0.7954457969993176 {'C': 51, 'gamma': 'scale', 'kernel': 'poly'}\n",
            "0.7780757796581198 {'C': 51, 'gamma': 'scale', 'kernel': 'rbf'}\n",
            "0.920536652597438 {'C': 51, 'gamma': 'scale', 'kernel': 'sigmoid'}\n",
            "0.8670140109424549 {'C': 51, 'gamma': 'auto', 'kernel': 'linear'}\n",
            "0.7962410682379363 {'C': 51, 'gamma': 'auto', 'kernel': 'poly'}\n",
            "0.7756316461672774 {'C': 51, 'gamma': 'auto', 'kernel': 'rbf'}\n",
            "0.9266973831787403 {'C': 51, 'gamma': 'auto', 'kernel': 'sigmoid'}\n",
            "0.8670140109424549 {'C': 61, 'gamma': 'scale', 'kernel': 'linear'}\n",
            "0.7970330170392854 {'C': 61, 'gamma': 'scale', 'kernel': 'poly'}\n",
            "0.7780654174036874 {'C': 61, 'gamma': 'scale', 'kernel': 'rbf'}\n",
            "0.9191605317928289 {'C': 61, 'gamma': 'scale', 'kernel': 'sigmoid'}\n",
            "0.8670140109424549 {'C': 61, 'gamma': 'auto', 'kernel': 'linear'}\n",
            "0.7958409992413877 {'C': 61, 'gamma': 'auto', 'kernel': 'poly'}\n",
            "0.7772515493550104 {'C': 61, 'gamma': 'auto', 'kernel': 'rbf'}\n",
            "0.9229377428837643 {'C': 61, 'gamma': 'auto', 'kernel': 'sigmoid'}\n",
            "0.868472763384174 {'C': 71, 'gamma': 'scale', 'kernel': 'linear'}\n",
            "0.7930272400738536 {'C': 71, 'gamma': 'scale', 'kernel': 'poly'}\n",
            "0.7645284488447512 {'C': 71, 'gamma': 'scale', 'kernel': 'rbf'}\n",
            "0.9236101517023634 {'C': 71, 'gamma': 'scale', 'kernel': 'sigmoid'}\n",
            "0.868472763384174 {'C': 71, 'gamma': 'auto', 'kernel': 'linear'}\n",
            "0.7938350908186034 {'C': 71, 'gamma': 'auto', 'kernel': 'poly'}\n",
            "0.76576921018684 {'C': 71, 'gamma': 'auto', 'kernel': 'rbf'}\n",
            "0.9239679879191416 {'C': 71, 'gamma': 'auto', 'kernel': 'sigmoid'}\n",
            "0.8670140109424549 {'C': 81, 'gamma': 'scale', 'kernel': 'linear'}\n",
            "0.7850005815829335 {'C': 81, 'gamma': 'scale', 'kernel': 'poly'}\n",
            "0.7662033965760104 {'C': 81, 'gamma': 'scale', 'kernel': 'rbf'}\n",
            "0.9191605317928289 {'C': 81, 'gamma': 'scale', 'kernel': 'sigmoid'}\n",
            "0.8670140109424549 {'C': 81, 'gamma': 'auto', 'kernel': 'linear'}\n",
            "0.7833864100914207 {'C': 81, 'gamma': 'auto', 'kernel': 'poly'}\n",
            "0.7653742815492631 {'C': 81, 'gamma': 'auto', 'kernel': 'rbf'}\n",
            "0.9345250643315587 {'C': 81, 'gamma': 'auto', 'kernel': 'sigmoid'}\n",
            "0.8670140109424549 {'C': 91, 'gamma': 'scale', 'kernel': 'linear'}\n",
            "0.7890445542264276 {'C': 91, 'gamma': 'scale', 'kernel': 'poly'}\n",
            "0.7670368710548977 {'C': 91, 'gamma': 'scale', 'kernel': 'rbf'}\n",
            "0.9260206860830795 {'C': 91, 'gamma': 'scale', 'kernel': 'sigmoid'}\n",
            "0.8670140109424549 {'C': 91, 'gamma': 'auto', 'kernel': 'linear'}\n",
            "0.7902468239300916 {'C': 91, 'gamma': 'auto', 'kernel': 'poly'}\n",
            "0.7595743258525768 {'C': 91, 'gamma': 'auto', 'kernel': 'rbf'}\n",
            "0.9328260697130898 {'C': 91, 'gamma': 'auto', 'kernel': 'sigmoid'}\n"
          ]
        }
      ],
      "source": [
        "cvres = grid_search.cv_results_\n",
        "for mean_score, params in zip(cvres[\"mean_test_score\"], cvres[\"params\"]):\n",
        "  print(np.sqrt(-mean_score), params)"
      ]
    },
    {
      "cell_type": "code",
      "execution_count": 163,
      "metadata": {
        "colab": {
          "base_uri": "https://localhost:8080/"
        },
        "id": "QWxoDdQDSpnI",
        "outputId": "7b073bb7-3e94-4603-9bb7-1c562c39d053"
      },
      "outputs": [
        {
          "output_type": "stream",
          "name": "stdout",
          "text": [
            "0.7595743258525768\n",
            "{'C': 91, 'gamma': 'auto', 'kernel': 'rbf'}\n"
          ]
        }
      ],
      "source": [
        "svc_grid_search_results = [[],[]]\n",
        "for mean_score, params in zip(cvres[\"mean_test_score\"], cvres[\"params\"]):\n",
        "  svc_grid_search_results[0].append(np.sqrt(-mean_score))\n",
        "  svc_grid_search_results[1].append(params)\n",
        "svc_grid_search_results\n",
        "print(min(svc_grid_search_results[0]))\n",
        "print(svc_grid_search_results[1][svc_grid_search_results[0].index(min(svc_grid_search_results[0]))])"
      ]
    },
    {
      "cell_type": "markdown",
      "source": [
        "### 5.1.4 SVC Grid-Search Metrics"
      ],
      "metadata": {
        "id": "ItUYAkl6Lg_V"
      }
    },
    {
      "cell_type": "code",
      "source": [
        "y_pred = svc_best_search.predict(red_test)"
      ],
      "metadata": {
        "id": "BOj1bcnI9jSO"
      },
      "execution_count": 164,
      "outputs": []
    },
    {
      "cell_type": "code",
      "source": [
        "recall_score(y_test, y_pred, average='macro')"
      ],
      "metadata": {
        "colab": {
          "base_uri": "https://localhost:8080/"
        },
        "id": "9ki2RKMl84XJ",
        "outputId": "53cda667-d0d7-493d-90b2-e6642e133daa"
      },
      "execution_count": 165,
      "outputs": [
        {
          "output_type": "execute_result",
          "data": {
            "text/plain": [
              "0.6944444444444443"
            ]
          },
          "metadata": {},
          "execution_count": 165
        }
      ]
    },
    {
      "cell_type": "code",
      "source": [
        "f1scoresvc = f1_score(y_test, y_pred, average='macro')\n",
        "f1scoresvc"
      ],
      "metadata": {
        "colab": {
          "base_uri": "https://localhost:8080/"
        },
        "id": "iluuopS39rKc",
        "outputId": "230bf47a-7706-4778-866a-e5375cd8eee9"
      },
      "execution_count": 166,
      "outputs": [
        {
          "output_type": "execute_result",
          "data": {
            "text/plain": [
              "0.7241830065359478"
            ]
          },
          "metadata": {},
          "execution_count": 166
        }
      ]
    },
    {
      "cell_type": "code",
      "source": [
        "precision_score(y_test, y_pred, zero_division=0, average='macro')"
      ],
      "metadata": {
        "colab": {
          "base_uri": "https://localhost:8080/"
        },
        "id": "vVKXsSMi90Bq",
        "outputId": "14c9a01f-d6ec-4ded-9991-2d349d444b44"
      },
      "execution_count": 167,
      "outputs": [
        {
          "output_type": "execute_result",
          "data": {
            "text/plain": [
              "0.7833333333333333"
            ]
          },
          "metadata": {},
          "execution_count": 167
        }
      ]
    },
    {
      "cell_type": "code",
      "source": [
        "y_pred_proba = svc_best_search.predict_proba(red_test)"
      ],
      "metadata": {
        "id": "Cqpcxo6nAZnB"
      },
      "execution_count": 168,
      "outputs": []
    },
    {
      "cell_type": "code",
      "source": [
        "roc_auc_score(y_test, y_pred_proba, multi_class='ovr')"
      ],
      "metadata": {
        "colab": {
          "base_uri": "https://localhost:8080/"
        },
        "id": "EKI7zhE59wYl",
        "outputId": "da272ff0-f6a2-4db9-b619-8df9c8bee860"
      },
      "execution_count": 169,
      "outputs": [
        {
          "output_type": "execute_result",
          "data": {
            "text/plain": [
              "0.8165292632204397"
            ]
          },
          "metadata": {},
          "execution_count": 169
        }
      ]
    },
    {
      "cell_type": "code",
      "source": [
        "conf_mx = confusion_matrix(y_test, y_pred)\n",
        "conf_mx"
      ],
      "metadata": {
        "colab": {
          "base_uri": "https://localhost:8080/"
        },
        "id": "2IkXr11N93Fg",
        "outputId": "ac3f4da1-210e-49f2-9c44-c6466bd5bac7"
      },
      "execution_count": 170,
      "outputs": [
        {
          "output_type": "execute_result",
          "data": {
            "text/plain": [
              "array([[6, 2, 0],\n",
              "       [3, 6, 0],\n",
              "       [1, 0, 2]])"
            ]
          },
          "metadata": {},
          "execution_count": 170
        }
      ]
    },
    {
      "cell_type": "code",
      "source": [
        "import matplotlib.pyplot as plt\n",
        "\n",
        "plt.matshow(conf_mx, cmap=plt.cm.pink)\n",
        "plt.show()"
      ],
      "metadata": {
        "colab": {
          "base_uri": "https://localhost:8080/",
          "height": 437
        },
        "id": "DJH37IL494M3",
        "outputId": "bfc344aa-8b2d-404e-bbd9-3ebda92c235c"
      },
      "execution_count": 171,
      "outputs": [
        {
          "output_type": "display_data",
          "data": {
            "text/plain": [
              "<Figure size 480x480 with 1 Axes>"
            ],
            "image/png": "[encoded data removed]"
          },
          "metadata": {}
        }
      ]
    },
    {
      "cell_type": "code",
      "source": [
        "print(classification_report(y_test, y_pred))"
      ],
      "metadata": {
        "colab": {
          "base_uri": "https://localhost:8080/"
        },
        "id": "Ptr7i_KAMvuQ",
        "outputId": "e31c45b9-8085-41a5-d253-0a8e91e529f5"
      },
      "execution_count": 172,
      "outputs": [
        {
          "output_type": "stream",
          "name": "stdout",
          "text": [
            "              precision    recall  f1-score   support\n",
            "\n",
            "           0       0.60      0.75      0.67         8\n",
            "           1       0.75      0.67      0.71         9\n",
            "           2       1.00      0.67      0.80         3\n",
            "\n",
            "    accuracy                           0.70        20\n",
            "   macro avg       0.78      0.69      0.72        20\n",
            "weighted avg       0.73      0.70      0.70        20\n",
            "\n"
          ]
        }
      ]
    },
    {
      "cell_type": "markdown",
      "source": [
        "### 5.1.5 Accuracy and F1 Score"
      ],
      "metadata": {
        "id": "RvBv-7QSLjo8"
      }
    },
    {
      "cell_type": "code",
      "execution_count": 173,
      "metadata": {
        "colab": {
          "base_uri": "https://localhost:8080/"
        },
        "id": "9TX8cJh6eBYu",
        "outputId": "491115db-d118-49d3-c68d-a97dca3574da"
      },
      "outputs": [
        {
          "output_type": "stream",
          "name": "stdout",
          "text": [
            "Accuracy with hyperparameters: [1.   0.75 0.25 0.5  1.  ]\n",
            "F1 Score with hyperparameters: 0.7241830065359478\n",
            "Accuracy without hyperparameters: [0.5  0.5  0.5  0.75 0.75]\n",
            "F1 Score without hyperparameters: 0.5381836945304438\n"
          ]
        },
        {
          "output_type": "stream",
          "name": "stderr",
          "text": [
            "/usr/local/lib/python3.9/dist-packages/sklearn/model_selection/_split.py:700: UserWarning: The least populated class in y has only 3 members, which is less than n_splits=5.\n",
            "  warnings.warn(\n",
            "/usr/local/lib/python3.9/dist-packages/sklearn/model_selection/_split.py:700: UserWarning: The least populated class in y has only 3 members, which is less than n_splits=5.\n",
            "  warnings.warn(\n"
          ]
        }
      ],
      "source": [
        "from sklearn.svm import SVC\n",
        "\n",
        "accuracy_svc = cross_val_score(svc_best_search, red_test, y_test,\n",
        "                        scoring=\"accuracy\", cv=5)\n",
        "\n",
        "accuracy_svc_default = cross_val_score(svc_reg, red_test, y_test,\n",
        "                        scoring=\"accuracy\", cv=5)\n",
        "\n",
        "print(\"Accuracy with hyperparameters: \" + str(accuracy_svc))\n",
        "print(\"F1 Score with hyperparameters: \" + str(f1scoresvc))\n",
        "print(\"Accuracy without hyperparameters: \" + str(accuracy_svc_default))\n",
        "print(\"F1 Score without hyperparameters: \" + str(f1_score_default))"
      ]
    },
    {
      "cell_type": "markdown",
      "metadata": {
        "id": "lcBUNbVtmz89"
      },
      "source": [
        "##5.2 Random Forest"
      ]
    },
    {
      "cell_type": "markdown",
      "metadata": {
        "id": "qRJnHy3vnaQN"
      },
      "source": [
        "###5.2.1 Random Forest Prediction"
      ]
    },
    {
      "cell_type": "code",
      "execution_count": 174,
      "metadata": {
        "id": "BseCDRkOnIxX"
      },
      "outputs": [],
      "source": [
        "from sklearn.ensemble import RandomForestClassifier\n",
        "\n",
        "forest_cl = RandomForestClassifier()\n",
        "forest_cl.fit(red_wine_prepared, y_train)\n",
        "wine_predictions = forest_cl.predict(red_test)"
      ]
    },
    {
      "cell_type": "markdown",
      "metadata": {
        "id": "T8Mr2pnonuA1"
      },
      "source": [
        "### 5.3.2. Random Forest Metrics"
      ]
    },
    {
      "cell_type": "code",
      "execution_count": 175,
      "metadata": {
        "colab": {
          "base_uri": "https://localhost:8080/"
        },
        "id": "BDWmnIxKpsd8",
        "outputId": "420c6a8a-982b-4c7f-f59d-31f9939bac43"
      },
      "outputs": [
        {
          "output_type": "execute_result",
          "data": {
            "text/plain": [
              "array([0.71518987, 0.71202532, 0.76582278, 0.69620253, 0.73968254])"
            ]
          },
          "metadata": {},
          "execution_count": 175
        }
      ],
      "source": [
        "accuracy = cross_val_score(forest_cl, red_wine_prepared, y_train,\n",
        "                        scoring=\"accuracy\", cv=5)\n",
        "\n",
        "accuracy"
      ]
    },
    {
      "cell_type": "code",
      "execution_count": 176,
      "metadata": {
        "colab": {
          "base_uri": "https://localhost:8080/"
        },
        "id": "eKwBtO5_pyOw",
        "outputId": "6ea3b20f-b77b-4891-c435-03bd140654ce"
      },
      "outputs": [
        {
          "output_type": "execute_result",
          "data": {
            "text/plain": [
              "0.7833333333333333"
            ]
          },
          "metadata": {},
          "execution_count": 176
        }
      ],
      "source": [
        "precision_score(y_test, wine_predictions, average = 'macro')"
      ]
    },
    {
      "cell_type": "code",
      "execution_count": 177,
      "metadata": {
        "colab": {
          "base_uri": "https://localhost:8080/"
        },
        "id": "8x_NHUjkp6ma",
        "outputId": "138f49e7-1e45-476d-bc4a-b93bdb33daa3"
      },
      "outputs": [
        {
          "output_type": "execute_result",
          "data": {
            "text/plain": [
              "0.6944444444444443"
            ]
          },
          "metadata": {},
          "execution_count": 177
        }
      ],
      "source": [
        "recall_score(y_test, wine_predictions, average = 'macro')"
      ]
    },
    {
      "cell_type": "code",
      "execution_count": 178,
      "metadata": {
        "colab": {
          "base_uri": "https://localhost:8080/"
        },
        "id": "xvpBSKRfqDz4",
        "outputId": "3a5da25e-f146-4f18-d560-5b5f8864e665"
      },
      "outputs": [
        {
          "output_type": "execute_result",
          "data": {
            "text/plain": [
              "0.7241830065359478"
            ]
          },
          "metadata": {},
          "execution_count": 178
        }
      ],
      "source": [
        "f1_score(y_test, wine_predictions, average = 'macro')"
      ]
    },
    {
      "cell_type": "code",
      "execution_count": 179,
      "metadata": {
        "id": "Y4XskSMns6db"
      },
      "outputs": [],
      "source": [
        "from sklearn.metrics import roc_auc_score\n",
        "\n",
        "y_pred = forest_cl.predict_proba(red_test)"
      ]
    },
    {
      "cell_type": "code",
      "execution_count": 180,
      "metadata": {
        "colab": {
          "base_uri": "https://localhost:8080/"
        },
        "id": "5NNvrvs7rsRa",
        "outputId": "4d96878d-0e92-4073-ec8e-b27b3f78e934"
      },
      "outputs": [
        {
          "output_type": "execute_result",
          "data": {
            "text/plain": [
              "0.8605355020796197"
            ]
          },
          "metadata": {},
          "execution_count": 180
        }
      ],
      "source": [
        "roc_auc_score(y_test, y_pred, multi_class='ovr')"
      ]
    },
    {
      "cell_type": "code",
      "execution_count": 181,
      "metadata": {
        "colab": {
          "base_uri": "https://localhost:8080/"
        },
        "id": "rUPdesaftM2n",
        "outputId": "cbcb49b1-6f79-4fcc-ecf3-7f2d5f467972"
      },
      "outputs": [
        {
          "output_type": "execute_result",
          "data": {
            "text/plain": [
              "array([[6, 2, 0],\n",
              "       [3, 6, 0],\n",
              "       [1, 0, 2]])"
            ]
          },
          "metadata": {},
          "execution_count": 181
        }
      ],
      "source": [
        "conf_mx = confusion_matrix(y_test, wine_predictions)\n",
        "conf_mx"
      ]
    },
    {
      "cell_type": "code",
      "execution_count": 182,
      "metadata": {
        "colab": {
          "base_uri": "https://localhost:8080/",
          "height": 437
        },
        "id": "wpzBRQWktUPo",
        "outputId": "6b3aa902-715c-4afa-ba58-5899d2fc7c67"
      },
      "outputs": [
        {
          "output_type": "display_data",
          "data": {
            "text/plain": [
              "<Figure size 480x480 with 1 Axes>"
            ],
            "image/png": "[encoded data removed]"
          },
          "metadata": {}
        }
      ],
      "source": [
        "plt.matshow(conf_mx, cmap=plt.cm.pink)\n",
        "plt.show()"
      ]
    },
    {
      "cell_type": "code",
      "execution_count": 183,
      "metadata": {
        "colab": {
          "base_uri": "https://localhost:8080/"
        },
        "id": "qrODIf7EPnMS",
        "outputId": "6ba2a0be-d833-42c0-c42a-7a27714b0094"
      },
      "outputs": [
        {
          "output_type": "stream",
          "name": "stdout",
          "text": [
            "              precision    recall  f1-score   support\n",
            "\n",
            "           0       0.60      0.75      0.67         8\n",
            "           1       0.75      0.67      0.71         9\n",
            "           2       1.00      0.67      0.80         3\n",
            "\n",
            "    accuracy                           0.70        20\n",
            "   macro avg       0.78      0.69      0.72        20\n",
            "weighted avg       0.73      0.70      0.70        20\n",
            "\n"
          ]
        }
      ],
      "source": [
        "print(classification_report(y_test, wine_predictions))\n"
      ]
    },
    {
      "cell_type": "markdown",
      "metadata": {
        "id": "M5xDQVSmn8oj"
      },
      "source": [
        "### 5.3.3 Random Forest Grid Search"
      ]
    },
    {
      "cell_type": "code",
      "execution_count": 184,
      "metadata": {
        "id": "DbPq-ANHn_TI",
        "colab": {
          "base_uri": "https://localhost:8080/",
          "height": 118
        },
        "outputId": "216c6096-c040-49b3-b556-baca1242271d"
      },
      "outputs": [
        {
          "output_type": "execute_result",
          "data": {
            "text/plain": [
              "GridSearchCV(cv=5, estimator=RandomForestClassifier(),\n",
              "             param_grid=[{'bootstrap': [False, True],\n",
              "                          'criterion': ['gini', 'entropy', 'log_loss'],\n",
              "                          'max_features': ['sqrt', 'log2']}],\n",
              "             return_train_score=True, scoring='neg_mean_squared_error')"
            ],
            "text/html": [
              "<style>#sk-container-id-5 {color: black;background-color: white;}#sk-container-id-5 pre{padding: 0;}#sk-container-id-5 div.sk-toggleable {background-color: white;}#sk-container-id-5 label.sk-toggleable__label {cursor: pointer;display: block;width: 100%;margin-bottom: 0;padding: 0.3em;box-sizing: border-box;text-align: center;}#sk-container-id-5 label.sk-toggleable__label-arrow:before {content: \"▸\";float: left;margin-right: 0.25em;color: #696969;}#sk-container-id-5 label.sk-toggleable__label-arrow:hover:before {color: black;}#sk-container-id-5 div.sk-estimator:hover label.sk-toggleable__label-arrow:before {color: black;}#sk-container-id-5 div.sk-toggleable__content {max-height: 0;max-width: 0;overflow: hidden;text-align: left;background-color: #f0f8ff;}#sk-container-id-5 div.sk-toggleable__content pre {margin: 0.2em;color: black;border-radius: 0.25em;background-color: #f0f8ff;}#sk-container-id-5 input.sk-toggleable__control:checked~div.sk-toggleable__content {max-height: 200px;max-width: 100%;overflow: auto;}#sk-container-id-5 input.sk-toggleable__control:checked~label.sk-toggleable__label-arrow:before {content: \"▾\";}#sk-container-id-5 div.sk-estimator input.sk-toggleable__control:checked~label.sk-toggleable__label {background-color: #d4ebff;}#sk-container-id-5 div.sk-label input.sk-toggleable__control:checked~label.sk-toggleable__label {background-color: #d4ebff;}#sk-container-id-5 input.sk-hidden--visually {border: 0;clip: rect(1px 1px 1px 1px);clip: rect(1px, 1px, 1px, 1px);height: 1px;margin: -1px;overflow: hidden;padding: 0;position: absolute;width: 1px;}#sk-container-id-5 div.sk-estimator {font-family: monospace;background-color: #f0f8ff;border: 1px dotted black;border-radius: 0.25em;box-sizing: border-box;margin-bottom: 0.5em;}#sk-container-id-5 div.sk-estimator:hover {background-color: #d4ebff;}#sk-container-id-5 div.sk-parallel-item::after {content: \"\";width: 100%;border-bottom: 1px solid gray;flex-grow: 1;}#sk-container-id-5 div.sk-label:hover label.sk-toggleable__label {background-color: #d4ebff;}#sk-container-id-5 div.sk-serial::before {content: \"\";position: absolute;border-left: 1px solid gray;box-sizing: border-box;top: 0;bottom: 0;left: 50%;z-index: 0;}#sk-container-id-5 div.sk-serial {display: flex;flex-direction: column;align-items: center;background-color: white;padding-right: 0.2em;padding-left: 0.2em;position: relative;}#sk-container-id-5 div.sk-item {position: relative;z-index: 1;}#sk-container-id-5 div.sk-parallel {display: flex;align-items: stretch;justify-content: center;background-color: white;position: relative;}#sk-container-id-5 div.sk-item::before, #sk-container-id-5 div.sk-parallel-item::before {content: \"\";position: absolute;border-left: 1px solid gray;box-sizing: border-box;top: 0;bottom: 0;left: 50%;z-index: -1;}#sk-container-id-5 div.sk-parallel-item {display: flex;flex-direction: column;z-index: 1;position: relative;background-color: white;}#sk-container-id-5 div.sk-parallel-item:first-child::after {align-self: flex-end;width: 50%;}#sk-container-id-5 div.sk-parallel-item:last-child::after {align-self: flex-start;width: 50%;}#sk-container-id-5 div.sk-parallel-item:only-child::after {width: 0;}#sk-container-id-5 div.sk-dashed-wrapped {border: 1px dashed gray;margin: 0 0.4em 0.5em 0.4em;box-sizing: border-box;padding-bottom: 0.4em;background-color: white;}#sk-container-id-5 div.sk-label label {font-family: monospace;font-weight: bold;display: inline-block;line-height: 1.2em;}#sk-container-id-5 div.sk-label-container {text-align: center;}#sk-container-id-5 div.sk-container {/* jupyter's `normalize.less` sets `[hidden] { display: none; }` but bootstrap.min.css set `[hidden] { display: none !important; }` so we also need the `!important` here to be able to override the default hidden behavior on the sphinx rendered scikit-learn.org. See: https://github.com/scikit-learn/scikit-learn/issues/21755 */display: inline-block !important;position: relative;}#sk-container-id-5 div.sk-text-repr-fallback {display: none;}</style><div id=\"sk-container-id-5\" class=\"sk-top-container\"><div class=\"sk-text-repr-fallback\"><pre>GridSearchCV(cv=5, estimator=RandomForestClassifier(),\n",
              "             param_grid=[{&#x27;bootstrap&#x27;: [False, True],\n",
              "                          &#x27;criterion&#x27;: [&#x27;gini&#x27;, &#x27;entropy&#x27;, &#x27;log_loss&#x27;],\n",
              "                          &#x27;max_features&#x27;: [&#x27;sqrt&#x27;, &#x27;log2&#x27;]}],\n",
              "             return_train_score=True, scoring=&#x27;neg_mean_squared_error&#x27;)</pre><b>In a Jupyter environment, please rerun this cell to show the HTML representation or trust the notebook. <br />On GitHub, the HTML representation is unable to render, please try loading this page with nbviewer.org.</b></div><div class=\"sk-container\" hidden><div class=\"sk-item sk-dashed-wrapped\"><div class=\"sk-label-container\"><div class=\"sk-label sk-toggleable\"><input class=\"sk-toggleable__control sk-hidden--visually\" id=\"sk-estimator-id-13\" type=\"checkbox\" ><label for=\"sk-estimator-id-13\" class=\"sk-toggleable__label sk-toggleable__label-arrow\">GridSearchCV</label><div class=\"sk-toggleable__content\"><pre>GridSearchCV(cv=5, estimator=RandomForestClassifier(),\n",
              "             param_grid=[{&#x27;bootstrap&#x27;: [False, True],\n",
              "                          &#x27;criterion&#x27;: [&#x27;gini&#x27;, &#x27;entropy&#x27;, &#x27;log_loss&#x27;],\n",
              "                          &#x27;max_features&#x27;: [&#x27;sqrt&#x27;, &#x27;log2&#x27;]}],\n",
              "             return_train_score=True, scoring=&#x27;neg_mean_squared_error&#x27;)</pre></div></div></div><div class=\"sk-parallel\"><div class=\"sk-parallel-item\"><div class=\"sk-item\"><div class=\"sk-label-container\"><div class=\"sk-label sk-toggleable\"><input class=\"sk-toggleable__control sk-hidden--visually\" id=\"sk-estimator-id-14\" type=\"checkbox\" ><label for=\"sk-estimator-id-14\" class=\"sk-toggleable__label sk-toggleable__label-arrow\">estimator: RandomForestClassifier</label><div class=\"sk-toggleable__content\"><pre>RandomForestClassifier()</pre></div></div></div><div class=\"sk-serial\"><div class=\"sk-item\"><div class=\"sk-estimator sk-toggleable\"><input class=\"sk-toggleable__control sk-hidden--visually\" id=\"sk-estimator-id-15\" type=\"checkbox\" ><label for=\"sk-estimator-id-15\" class=\"sk-toggleable__label sk-toggleable__label-arrow\">RandomForestClassifier</label><div class=\"sk-toggleable__content\"><pre>RandomForestClassifier()</pre></div></div></div></div></div></div></div></div></div></div>"
            ]
          },
          "metadata": {},
          "execution_count": 184
        }
      ],
      "source": [
        "from sklearn.model_selection import GridSearchCV\n",
        "\n",
        "param_grid = [\n",
        "    {'criterion': ['gini', 'entropy', 'log_loss'],\n",
        "    'bootstrap': [False, True], 'max_features': ['sqrt', 'log2']}]\n",
        "\n",
        "forest_reg = RandomForestClassifier()\n",
        "\n",
        "grid_search = GridSearchCV(forest_reg, param_grid, cv=5,\n",
        "                           scoring='neg_mean_squared_error',\n",
        "                           return_train_score=True)\n",
        "\n",
        "grid_search.fit(red_wine_prepared, y_train)"
      ]
    },
    {
      "cell_type": "code",
      "execution_count": 185,
      "metadata": {
        "id": "qgxG4s9wocn0"
      },
      "outputs": [],
      "source": [
        "forest_best_search = grid_search.best_estimator_"
      ]
    },
    {
      "cell_type": "code",
      "execution_count": 186,
      "metadata": {
        "id": "QnmlNCW0oeoA",
        "colab": {
          "base_uri": "https://localhost:8080/"
        },
        "outputId": "e0bc0e84-6456-45f9-9431-00f7b18977f4"
      },
      "outputs": [
        {
          "output_type": "stream",
          "name": "stdout",
          "text": [
            "0.7104546648603134 {'bootstrap': False, 'criterion': 'gini', 'max_features': 'sqrt'}\n",
            "0.7250006062367125 {'bootstrap': False, 'criterion': 'gini', 'max_features': 'log2'}\n",
            "0.7289349713694857 {'bootstrap': False, 'criterion': 'entropy', 'max_features': 'sqrt'}\n",
            "0.7104475945551525 {'bootstrap': False, 'criterion': 'entropy', 'max_features': 'log2'}\n",
            "0.7245709170700777 {'bootstrap': False, 'criterion': 'log_loss', 'max_features': 'sqrt'}\n",
            "0.7241409729354817 {'bootstrap': False, 'criterion': 'log_loss', 'max_features': 'log2'}\n",
            "0.7271770193842726 {'bootstrap': True, 'criterion': 'gini', 'max_features': 'sqrt'}\n",
            "0.7149034901306079 {'bootstrap': True, 'criterion': 'gini', 'max_features': 'log2'}\n",
            "0.7280427271650052 {'bootstrap': True, 'criterion': 'entropy', 'max_features': 'sqrt'}\n",
            "0.7193010582901318 {'bootstrap': True, 'criterion': 'entropy', 'max_features': 'log2'}\n",
            "0.7037215575357104 {'bootstrap': True, 'criterion': 'log_loss', 'max_features': 'sqrt'}\n",
            "0.7188567822155898 {'bootstrap': True, 'criterion': 'log_loss', 'max_features': 'log2'}\n"
          ]
        }
      ],
      "source": [
        "cvres = grid_search.cv_results_\n",
        "for mean_score, params in zip(cvres[\"mean_test_score\"], cvres[\"params\"]):\n",
        "  print(np.sqrt(-mean_score), params)"
      ]
    },
    {
      "cell_type": "code",
      "execution_count": 187,
      "metadata": {
        "id": "wAIoY0OAogkt",
        "colab": {
          "base_uri": "https://localhost:8080/"
        },
        "outputId": "789d1473-c681-486b-8dc0-7b7f37305ab0"
      },
      "outputs": [
        {
          "output_type": "stream",
          "name": "stdout",
          "text": [
            "0.7037215575357104\n",
            "{'bootstrap': True, 'criterion': 'log_loss', 'max_features': 'sqrt'}\n"
          ]
        }
      ],
      "source": [
        "forest_grid_search_results = [[],[]]\n",
        "for mean_score, params in zip(cvres[\"mean_test_score\"], cvres[\"params\"]):\n",
        "  forest_grid_search_results[0].append(np.sqrt(-mean_score))\n",
        "  forest_grid_search_results[1].append(params)\n",
        "forest_grid_search_results\n",
        "print(min(forest_grid_search_results[0]))\n",
        "print(forest_grid_search_results[1][forest_grid_search_results[0].index(min(forest_grid_search_results[0]))])"
      ]
    },
    {
      "cell_type": "markdown",
      "source": [
        "### 5.3.4 Random Forest Grid Search Metrics"
      ],
      "metadata": {
        "id": "a6Jx8urjhE50"
      }
    },
    {
      "cell_type": "code",
      "source": [
        "accuracy = cross_val_score(forest_best_search, red_wine_prepared, y_train,\n",
        "                        scoring=\"accuracy\", cv=5)\n",
        "\n",
        "accuracy"
      ],
      "metadata": {
        "id": "a2Y-4xVmzDBA",
        "colab": {
          "base_uri": "https://localhost:8080/"
        },
        "outputId": "24f37c17-6087-4496-8dc6-877caacfad2e"
      },
      "execution_count": 188,
      "outputs": [
        {
          "output_type": "execute_result",
          "data": {
            "text/plain": [
              "array([0.73101266, 0.68670886, 0.74683544, 0.69936709, 0.74285714])"
            ]
          },
          "metadata": {},
          "execution_count": 188
        }
      ]
    },
    {
      "cell_type": "code",
      "source": [
        "y_pred = forest_best_search.predict(red_test)"
      ],
      "metadata": {
        "id": "Dds8TbRK1Hgb"
      },
      "execution_count": 189,
      "outputs": []
    },
    {
      "cell_type": "code",
      "source": [
        "precision_score(y_test, y_pred, average = 'macro')"
      ],
      "metadata": {
        "colab": {
          "base_uri": "https://localhost:8080/"
        },
        "id": "JcUdzAiG0sO9",
        "outputId": "ea6ae518-8c4a-438a-d005-eb6b010b7acd"
      },
      "execution_count": 190,
      "outputs": [
        {
          "output_type": "execute_result",
          "data": {
            "text/plain": [
              "0.7833333333333333"
            ]
          },
          "metadata": {},
          "execution_count": 190
        }
      ]
    },
    {
      "cell_type": "code",
      "source": [
        "recall_score(y_test, y_pred, average='macro')"
      ],
      "metadata": {
        "colab": {
          "base_uri": "https://localhost:8080/"
        },
        "id": "betqYo9f1Ley",
        "outputId": "81e46e22-b74e-441b-a06e-8b6f7dcfb151"
      },
      "execution_count": 191,
      "outputs": [
        {
          "output_type": "execute_result",
          "data": {
            "text/plain": [
              "0.6944444444444443"
            ]
          },
          "metadata": {},
          "execution_count": 191
        }
      ]
    },
    {
      "cell_type": "code",
      "source": [
        "f1scoreforest = f1_score(y_test, y_pred, average='macro')\n",
        "f1scoreforest"
      ],
      "metadata": {
        "colab": {
          "base_uri": "https://localhost:8080/"
        },
        "id": "LkuIVMfI1Qda",
        "outputId": "f1d81eb0-06aa-46e0-f9c3-287dc1c3efa7"
      },
      "execution_count": 192,
      "outputs": [
        {
          "output_type": "execute_result",
          "data": {
            "text/plain": [
              "0.7241830065359478"
            ]
          },
          "metadata": {},
          "execution_count": 192
        }
      ]
    },
    {
      "cell_type": "code",
      "source": [
        "y_pred_proba = forest_best_search.predict_proba(red_test)"
      ],
      "metadata": {
        "id": "q5xqOtI44wrl"
      },
      "execution_count": 194,
      "outputs": []
    },
    {
      "cell_type": "code",
      "source": [
        "roc_auc_score(y_test, y_pred_proba, multi_class='ovr')"
      ],
      "metadata": {
        "colab": {
          "base_uri": "https://localhost:8080/"
        },
        "id": "a3nDxuOZ1YLS",
        "outputId": "dc86eaa2-33c9-4f60-c64b-a6907d6406e1"
      },
      "execution_count": 196,
      "outputs": [
        {
          "output_type": "execute_result",
          "data": {
            "text/plain": [
              "0.8383869330560506"
            ]
          },
          "metadata": {},
          "execution_count": 196
        }
      ]
    },
    {
      "cell_type": "code",
      "source": [
        "conf_mx = confusion_matrix(y_test, y_pred)\n",
        "conf_mx"
      ],
      "metadata": {
        "colab": {
          "base_uri": "https://localhost:8080/"
        },
        "id": "48SWQpm_1dpz",
        "outputId": "cfaff0dc-db16-40cb-ea3b-cb0f8e044428"
      },
      "execution_count": 197,
      "outputs": [
        {
          "output_type": "execute_result",
          "data": {
            "text/plain": [
              "array([[6, 2, 0],\n",
              "       [3, 6, 0],\n",
              "       [1, 0, 2]])"
            ]
          },
          "metadata": {},
          "execution_count": 197
        }
      ]
    },
    {
      "cell_type": "code",
      "source": [
        "plt.matshow(conf_mx, cmap=plt.cm.pink)\n",
        "plt.show()"
      ],
      "metadata": {
        "colab": {
          "base_uri": "https://localhost:8080/",
          "height": 437
        },
        "id": "_F2W7uHR1kR1",
        "outputId": "c95950fc-efa5-4830-bd86-9e02050a1626"
      },
      "execution_count": 198,
      "outputs": [
        {
          "output_type": "display_data",
          "data": {
            "text/plain": [
              "<Figure size 480x480 with 1 Axes>"
            ],
            "image/png": "[encoded data removed]"
          },
          "metadata": {}
        }
      ]
    },
    {
      "cell_type": "code",
      "source": [
        "print(classification_report(y_test, y_pred))\n"
      ],
      "metadata": {
        "colab": {
          "base_uri": "https://localhost:8080/"
        },
        "id": "J0hPaQeT1nIC",
        "outputId": "2cac67fe-1597-4ea2-a804-44d33196d796"
      },
      "execution_count": 199,
      "outputs": [
        {
          "output_type": "stream",
          "name": "stdout",
          "text": [
            "              precision    recall  f1-score   support\n",
            "\n",
            "           0       0.60      0.75      0.67         8\n",
            "           1       0.75      0.67      0.71         9\n",
            "           2       1.00      0.67      0.80         3\n",
            "\n",
            "    accuracy                           0.70        20\n",
            "   macro avg       0.78      0.69      0.72        20\n",
            "weighted avg       0.73      0.70      0.70        20\n",
            "\n"
          ]
        }
      ]
    },
    {
      "cell_type": "code",
      "source": [
        "accuracy_forest = cross_val_score(forest_best_search, red_test, y_test,\n",
        "                        scoring=\"accuracy\", cv=5)\n",
        "\n",
        "accuracy_forest_default = cross_val_score(forest_cl, red_test, y_test,\n",
        "                        scoring=\"accuracy\", cv=5)\n",
        "\n",
        "print(\"Accuracy with hyperparameters: \" + str(accuracy_forest))\n",
        "print(\"F1 Score with hyperparameters: \" + str(f1scoreforest))\n",
        "print(\"Accuracy without hyperparameters: \" + str(accuracy_forest_default))\n",
        "print(\"Accuracy without hyperparameters: \" + str(accuracy_svc_default))\n",
        "print(\"F1 Score without hyperparameters: \" + str(f1_score_default))\n",
        "\n"
      ],
      "metadata": {
        "id": "o-TQMAp_OBXg",
        "colab": {
          "base_uri": "https://localhost:8080/"
        },
        "outputId": "7d3c3f07-5fb0-43da-a2fd-89ffb0f4fca4"
      },
      "execution_count": 200,
      "outputs": [
        {
          "output_type": "stream",
          "name": "stderr",
          "text": [
            "/usr/local/lib/python3.9/dist-packages/sklearn/model_selection/_split.py:700: UserWarning: The least populated class in y has only 3 members, which is less than n_splits=5.\n",
            "  warnings.warn(\n",
            "/usr/local/lib/python3.9/dist-packages/sklearn/model_selection/_split.py:700: UserWarning: The least populated class in y has only 3 members, which is less than n_splits=5.\n",
            "  warnings.warn(\n"
          ]
        },
        {
          "output_type": "stream",
          "name": "stdout",
          "text": [
            "Accuracy with hyperparameters: [0.25 0.75 0.25 0.75 0.75]\n",
            "F1 Score with hyperparameters: 0.7241830065359478\n",
            "Accuracy without hyperparameters: [0.5  0.75 0.5  0.75 0.75]\n",
            "Accuracy without hyperparameters: [0.5  0.5  0.5  0.75 0.75]\n",
            "F1 Score without hyperparameters: 0.5381836945304438\n"
          ]
        }
      ]
    },
    {
      "cell_type": "markdown",
      "metadata": {
        "id": "hP_Oki4etsKH"
      },
      "source": [
        "##5.3 Extra Trees"
      ]
    },
    {
      "cell_type": "markdown",
      "metadata": {
        "id": "2G0xK1F4tvrr"
      },
      "source": [
        "###5.3.1 Extra Trees Prediction"
      ]
    },
    {
      "cell_type": "code",
      "execution_count": 201,
      "metadata": {
        "id": "sQG_O9bat1DU",
        "colab": {
          "base_uri": "https://localhost:8080/"
        },
        "outputId": "d4c771ff-4265-4ef2-f282-7a707795c649"
      },
      "outputs": [
        {
          "output_type": "execute_result",
          "data": {
            "text/plain": [
              "array([0, 0, 0, 1, 1, 1, 0, 1, 0, 1, 2, 0, 2, 1, 1, 0, 0, 0, 1, 0])"
            ]
          },
          "metadata": {},
          "execution_count": 201
        }
      ],
      "source": [
        "from sklearn.ensemble import ExtraTreesClassifier\n",
        "\n",
        "extra_cl = ExtraTreesClassifier()\n",
        "extra_cl.fit(red_wine_prepared, y_train)\n",
        "wine_predictions = extra_cl.predict(red_test)\n",
        "wine_predictions"
      ]
    },
    {
      "cell_type": "markdown",
      "metadata": {
        "id": "7VCN-2wquRGJ"
      },
      "source": [
        "###5.3.2 Extra Trees Metrics"
      ]
    },
    {
      "cell_type": "code",
      "execution_count": 202,
      "metadata": {
        "id": "LVLzPk1UvVO_",
        "colab": {
          "base_uri": "https://localhost:8080/"
        },
        "outputId": "485fa991-c13c-4f9a-88c1-94b55e3cd6aa"
      },
      "outputs": [
        {
          "output_type": "execute_result",
          "data": {
            "text/plain": [
              "array([0.74050633, 0.6835443 , 0.74683544, 0.70886076, 0.71111111])"
            ]
          },
          "metadata": {},
          "execution_count": 202
        }
      ],
      "source": [
        "accuracy = cross_val_score(extra_cl, red_wine_prepared, y_train,\n",
        "                        scoring=\"accuracy\", cv=5)\n",
        "\n",
        "accuracy"
      ]
    },
    {
      "cell_type": "code",
      "execution_count": 203,
      "metadata": {
        "id": "rYNq4buOvY3Z",
        "colab": {
          "base_uri": "https://localhost:8080/"
        },
        "outputId": "38b7f69e-0d01-4c06-9bcf-2489cd735b4d"
      },
      "outputs": [
        {
          "output_type": "execute_result",
          "data": {
            "text/plain": [
              "0.7833333333333333"
            ]
          },
          "metadata": {},
          "execution_count": 203
        }
      ],
      "source": [
        "precision_score(y_test, wine_predictions, average = 'macro')"
      ]
    },
    {
      "cell_type": "code",
      "execution_count": 204,
      "metadata": {
        "id": "X242Tj9jvdD-",
        "colab": {
          "base_uri": "https://localhost:8080/"
        },
        "outputId": "674b5942-9e5d-4fa8-f006-8274d6060459"
      },
      "outputs": [
        {
          "output_type": "execute_result",
          "data": {
            "text/plain": [
              "0.6944444444444443"
            ]
          },
          "metadata": {},
          "execution_count": 204
        }
      ],
      "source": [
        "recall_score(y_test, wine_predictions, average = 'macro')"
      ]
    },
    {
      "cell_type": "code",
      "execution_count": 205,
      "metadata": {
        "id": "3oNUg3X0vfHJ",
        "colab": {
          "base_uri": "https://localhost:8080/"
        },
        "outputId": "9ffbc7ac-89e0-4726-aa1f-9629b11ad3c0"
      },
      "outputs": [
        {
          "output_type": "execute_result",
          "data": {
            "text/plain": [
              "0.7241830065359478"
            ]
          },
          "metadata": {},
          "execution_count": 205
        }
      ],
      "source": [
        "f1_score(y_test, wine_predictions, average = 'macro')"
      ]
    },
    {
      "cell_type": "code",
      "execution_count": 206,
      "metadata": {
        "id": "-L_aEQRhvPeo"
      },
      "outputs": [],
      "source": [
        "y_pred = extra_cl.predict_proba(red_test)"
      ]
    },
    {
      "cell_type": "code",
      "execution_count": 207,
      "metadata": {
        "id": "g-8ou3uUvkg5",
        "colab": {
          "base_uri": "https://localhost:8080/"
        },
        "outputId": "22746e28-677c-4e63-a88c-fc9af404ceee"
      },
      "outputs": [
        {
          "output_type": "execute_result",
          "data": {
            "text/plain": [
              "0.9075528570013863"
            ]
          },
          "metadata": {},
          "execution_count": 207
        }
      ],
      "source": [
        "roc_auc_score(y_test, y_pred, multi_class='ovr')"
      ]
    },
    {
      "cell_type": "code",
      "execution_count": 208,
      "metadata": {
        "id": "LJPc-QzNvmni",
        "colab": {
          "base_uri": "https://localhost:8080/"
        },
        "outputId": "b973c84a-596f-4ea6-821d-5b6f640f3d08"
      },
      "outputs": [
        {
          "output_type": "execute_result",
          "data": {
            "text/plain": [
              "array([[6, 2, 0],\n",
              "       [3, 6, 0],\n",
              "       [1, 0, 2]])"
            ]
          },
          "metadata": {},
          "execution_count": 208
        }
      ],
      "source": [
        "conf_mx = confusion_matrix(y_test, wine_predictions)\n",
        "conf_mx"
      ]
    },
    {
      "cell_type": "code",
      "execution_count": 209,
      "metadata": {
        "id": "N6DPhirhvog4",
        "colab": {
          "base_uri": "https://localhost:8080/",
          "height": 437
        },
        "outputId": "45207ce7-2543-408f-9406-0f86da2dfb4b"
      },
      "outputs": [
        {
          "output_type": "display_data",
          "data": {
            "text/plain": [
              "<Figure size 480x480 with 1 Axes>"
            ],
            "image/png": "[encoded data removed]"
          },
          "metadata": {}
        }
      ],
      "source": [
        "plt.matshow(conf_mx, cmap=plt.cm.pink)\n",
        "plt.show()"
      ]
    },
    {
      "cell_type": "code",
      "execution_count": 210,
      "metadata": {
        "id": "byQuHB2cQx6a",
        "colab": {
          "base_uri": "https://localhost:8080/"
        },
        "outputId": "2ef9db92-987b-47d7-9abb-e659baa884d3"
      },
      "outputs": [
        {
          "output_type": "stream",
          "name": "stdout",
          "text": [
            "              precision    recall  f1-score   support\n",
            "\n",
            "           0       0.60      0.75      0.67         8\n",
            "           1       0.75      0.67      0.71         9\n",
            "           2       1.00      0.67      0.80         3\n",
            "\n",
            "    accuracy                           0.70        20\n",
            "   macro avg       0.78      0.69      0.72        20\n",
            "weighted avg       0.73      0.70      0.70        20\n",
            "\n"
          ]
        }
      ],
      "source": [
        "print(classification_report(y_test, wine_predictions))\n"
      ]
    },
    {
      "cell_type": "markdown",
      "metadata": {
        "id": "mHiKOrDLug_C"
      },
      "source": [
        "### 5.3.3 Extra Trees Grid-Search"
      ]
    },
    {
      "cell_type": "code",
      "execution_count": 211,
      "metadata": {
        "id": "bQaAfxIBuvG_",
        "colab": {
          "base_uri": "https://localhost:8080/",
          "height": 118
        },
        "outputId": "4e1072cb-f159-4a21-8401-bf238338f3c2"
      },
      "outputs": [
        {
          "output_type": "execute_result",
          "data": {
            "text/plain": [
              "GridSearchCV(cv=5, estimator=ExtraTreesClassifier(),\n",
              "             param_grid=[{'bootstrap': [False, True],\n",
              "                          'criterion': ['gini', 'entropy', 'log_loss'],\n",
              "                          'max_features': ['sqrt', 'log2']}],\n",
              "             return_train_score=True, scoring='neg_mean_squared_error')"
            ],
            "text/html": [
              "<style>#sk-container-id-6 {color: black;background-color: white;}#sk-container-id-6 pre{padding: 0;}#sk-container-id-6 div.sk-toggleable {background-color: white;}#sk-container-id-6 label.sk-toggleable__label {cursor: pointer;display: block;width: 100%;margin-bottom: 0;padding: 0.3em;box-sizing: border-box;text-align: center;}#sk-container-id-6 label.sk-toggleable__label-arrow:before {content: \"▸\";float: left;margin-right: 0.25em;color: #696969;}#sk-container-id-6 label.sk-toggleable__label-arrow:hover:before {color: black;}#sk-container-id-6 div.sk-estimator:hover label.sk-toggleable__label-arrow:before {color: black;}#sk-container-id-6 div.sk-toggleable__content {max-height: 0;max-width: 0;overflow: hidden;text-align: left;background-color: #f0f8ff;}#sk-container-id-6 div.sk-toggleable__content pre {margin: 0.2em;color: black;border-radius: 0.25em;background-color: #f0f8ff;}#sk-container-id-6 input.sk-toggleable__control:checked~div.sk-toggleable__content {max-height: 200px;max-width: 100%;overflow: auto;}#sk-container-id-6 input.sk-toggleable__control:checked~label.sk-toggleable__label-arrow:before {content: \"▾\";}#sk-container-id-6 div.sk-estimator input.sk-toggleable__control:checked~label.sk-toggleable__label {background-color: #d4ebff;}#sk-container-id-6 div.sk-label input.sk-toggleable__control:checked~label.sk-toggleable__label {background-color: #d4ebff;}#sk-container-id-6 input.sk-hidden--visually {border: 0;clip: rect(1px 1px 1px 1px);clip: rect(1px, 1px, 1px, 1px);height: 1px;margin: -1px;overflow: hidden;padding: 0;position: absolute;width: 1px;}#sk-container-id-6 div.sk-estimator {font-family: monospace;background-color: #f0f8ff;border: 1px dotted black;border-radius: 0.25em;box-sizing: border-box;margin-bottom: 0.5em;}#sk-container-id-6 div.sk-estimator:hover {background-color: #d4ebff;}#sk-container-id-6 div.sk-parallel-item::after {content: \"\";width: 100%;border-bottom: 1px solid gray;flex-grow: 1;}#sk-container-id-6 div.sk-label:hover label.sk-toggleable__label {background-color: #d4ebff;}#sk-container-id-6 div.sk-serial::before {content: \"\";position: absolute;border-left: 1px solid gray;box-sizing: border-box;top: 0;bottom: 0;left: 50%;z-index: 0;}#sk-container-id-6 div.sk-serial {display: flex;flex-direction: column;align-items: center;background-color: white;padding-right: 0.2em;padding-left: 0.2em;position: relative;}#sk-container-id-6 div.sk-item {position: relative;z-index: 1;}#sk-container-id-6 div.sk-parallel {display: flex;align-items: stretch;justify-content: center;background-color: white;position: relative;}#sk-container-id-6 div.sk-item::before, #sk-container-id-6 div.sk-parallel-item::before {content: \"\";position: absolute;border-left: 1px solid gray;box-sizing: border-box;top: 0;bottom: 0;left: 50%;z-index: -1;}#sk-container-id-6 div.sk-parallel-item {display: flex;flex-direction: column;z-index: 1;position: relative;background-color: white;}#sk-container-id-6 div.sk-parallel-item:first-child::after {align-self: flex-end;width: 50%;}#sk-container-id-6 div.sk-parallel-item:last-child::after {align-self: flex-start;width: 50%;}#sk-container-id-6 div.sk-parallel-item:only-child::after {width: 0;}#sk-container-id-6 div.sk-dashed-wrapped {border: 1px dashed gray;margin: 0 0.4em 0.5em 0.4em;box-sizing: border-box;padding-bottom: 0.4em;background-color: white;}#sk-container-id-6 div.sk-label label {font-family: monospace;font-weight: bold;display: inline-block;line-height: 1.2em;}#sk-container-id-6 div.sk-label-container {text-align: center;}#sk-container-id-6 div.sk-container {/* jupyter's `normalize.less` sets `[hidden] { display: none; }` but bootstrap.min.css set `[hidden] { display: none !important; }` so we also need the `!important` here to be able to override the default hidden behavior on the sphinx rendered scikit-learn.org. See: https://github.com/scikit-learn/scikit-learn/issues/21755 */display: inline-block !important;position: relative;}#sk-container-id-6 div.sk-text-repr-fallback {display: none;}</style><div id=\"sk-container-id-6\" class=\"sk-top-container\"><div class=\"sk-text-repr-fallback\"><pre>GridSearchCV(cv=5, estimator=ExtraTreesClassifier(),\n",
              "             param_grid=[{&#x27;bootstrap&#x27;: [False, True],\n",
              "                          &#x27;criterion&#x27;: [&#x27;gini&#x27;, &#x27;entropy&#x27;, &#x27;log_loss&#x27;],\n",
              "                          &#x27;max_features&#x27;: [&#x27;sqrt&#x27;, &#x27;log2&#x27;]}],\n",
              "             return_train_score=True, scoring=&#x27;neg_mean_squared_error&#x27;)</pre><b>In a Jupyter environment, please rerun this cell to show the HTML representation or trust the notebook. <br />On GitHub, the HTML representation is unable to render, please try loading this page with nbviewer.org.</b></div><div class=\"sk-container\" hidden><div class=\"sk-item sk-dashed-wrapped\"><div class=\"sk-label-container\"><div class=\"sk-label sk-toggleable\"><input class=\"sk-toggleable__control sk-hidden--visually\" id=\"sk-estimator-id-16\" type=\"checkbox\" ><label for=\"sk-estimator-id-16\" class=\"sk-toggleable__label sk-toggleable__label-arrow\">GridSearchCV</label><div class=\"sk-toggleable__content\"><pre>GridSearchCV(cv=5, estimator=ExtraTreesClassifier(),\n",
              "             param_grid=[{&#x27;bootstrap&#x27;: [False, True],\n",
              "                          &#x27;criterion&#x27;: [&#x27;gini&#x27;, &#x27;entropy&#x27;, &#x27;log_loss&#x27;],\n",
              "                          &#x27;max_features&#x27;: [&#x27;sqrt&#x27;, &#x27;log2&#x27;]}],\n",
              "             return_train_score=True, scoring=&#x27;neg_mean_squared_error&#x27;)</pre></div></div></div><div class=\"sk-parallel\"><div class=\"sk-parallel-item\"><div class=\"sk-item\"><div class=\"sk-label-container\"><div class=\"sk-label sk-toggleable\"><input class=\"sk-toggleable__control sk-hidden--visually\" id=\"sk-estimator-id-17\" type=\"checkbox\" ><label for=\"sk-estimator-id-17\" class=\"sk-toggleable__label sk-toggleable__label-arrow\">estimator: ExtraTreesClassifier</label><div class=\"sk-toggleable__content\"><pre>ExtraTreesClassifier()</pre></div></div></div><div class=\"sk-serial\"><div class=\"sk-item\"><div class=\"sk-estimator sk-toggleable\"><input class=\"sk-toggleable__control sk-hidden--visually\" id=\"sk-estimator-id-18\" type=\"checkbox\" ><label for=\"sk-estimator-id-18\" class=\"sk-toggleable__label sk-toggleable__label-arrow\">ExtraTreesClassifier</label><div class=\"sk-toggleable__content\"><pre>ExtraTreesClassifier()</pre></div></div></div></div></div></div></div></div></div></div>"
            ]
          },
          "metadata": {},
          "execution_count": 211
        }
      ],
      "source": [
        "from sklearn.model_selection import GridSearchCV\n",
        "\n",
        "param_grid = [\n",
        "    {'criterion': ['gini', 'entropy', 'log_loss'],\n",
        "    'bootstrap': [False, True], 'max_features': ['sqrt', 'log2']}]\n",
        "\n",
        "extra_reg = ExtraTreesClassifier()\n",
        "\n",
        "grid_search = GridSearchCV(extra_reg, param_grid, cv=5,\n",
        "                           scoring='neg_mean_squared_error',\n",
        "                           return_train_score=True)\n",
        "\n",
        "grid_search.fit(red_wine_prepared, y_train)"
      ]
    },
    {
      "cell_type": "code",
      "execution_count": 212,
      "metadata": {
        "id": "7eLnWyt6u_su"
      },
      "outputs": [],
      "source": [
        "extra_best_search = grid_search.best_estimator_"
      ]
    },
    {
      "cell_type": "code",
      "execution_count": 213,
      "metadata": {
        "id": "VQAJ6dMGvC1L",
        "colab": {
          "base_uri": "https://localhost:8080/"
        },
        "outputId": "d092ff77-cb78-41de-ea61-9509f5910fd8"
      },
      "outputs": [
        {
          "output_type": "stream",
          "name": "stdout",
          "text": [
            "0.7223991684445791 {'bootstrap': False, 'criterion': 'gini', 'max_features': 'sqrt'}\n",
            "0.7157798317434216 {'bootstrap': False, 'criterion': 'gini', 'max_features': 'log2'}\n",
            "0.7241284868732247 {'bootstrap': False, 'criterion': 'entropy', 'max_features': 'sqrt'}\n",
            "0.7237038325803872 {'bootstrap': False, 'criterion': 'entropy', 'max_features': 'log2'}\n",
            "0.7228329282996713 {'bootstrap': False, 'criterion': 'log_loss', 'max_features': 'sqrt'}\n",
            "0.7267582934087347 {'bootstrap': False, 'criterion': 'log_loss', 'max_features': 'log2'}\n",
            "0.7184164265556201 {'bootstrap': True, 'criterion': 'gini', 'max_features': 'sqrt'}\n",
            "0.7297930875067495 {'bootstrap': True, 'criterion': 'gini', 'max_features': 'log2'}\n",
            "0.725871677768113 {'bootstrap': True, 'criterion': 'entropy', 'max_features': 'sqrt'}\n",
            "0.7175531055697822 {'bootstrap': True, 'criterion': 'entropy', 'max_features': 'log2'}\n",
            "0.7153333687244634 {'bootstrap': True, 'criterion': 'log_loss', 'max_features': 'sqrt'}\n",
            "0.7170895341867604 {'bootstrap': True, 'criterion': 'log_loss', 'max_features': 'log2'}\n"
          ]
        }
      ],
      "source": [
        "cvres = grid_search.cv_results_\n",
        "for mean_score, params in zip(cvres[\"mean_test_score\"], cvres[\"params\"]):\n",
        "  print(np.sqrt(-mean_score), params)"
      ]
    },
    {
      "cell_type": "code",
      "execution_count": 214,
      "metadata": {
        "id": "YgoaB9kdvF5T",
        "colab": {
          "base_uri": "https://localhost:8080/"
        },
        "outputId": "4d9957fa-42a6-46ae-ac0a-4b1c79793a83"
      },
      "outputs": [
        {
          "output_type": "stream",
          "name": "stdout",
          "text": [
            "0.7153333687244634\n",
            "{'bootstrap': True, 'criterion': 'log_loss', 'max_features': 'sqrt'}\n"
          ]
        }
      ],
      "source": [
        "extra_grid_search_results = [[],[]]\n",
        "for mean_score, params in zip(cvres[\"mean_test_score\"], cvres[\"params\"]):\n",
        "  extra_grid_search_results[0].append(np.sqrt(-mean_score))\n",
        "  extra_grid_search_results[1].append(params)\n",
        "extra_grid_search_results\n",
        "print(min(extra_grid_search_results[0]))\n",
        "print(extra_grid_search_results[1][extra_grid_search_results[0].index(min(extra_grid_search_results[0]))])"
      ]
    },
    {
      "cell_type": "markdown",
      "source": [
        "### 5.3.4 Extra Trees Grid-Search Metrics"
      ],
      "metadata": {
        "id": "UMf9jDdxtAJP"
      }
    },
    {
      "cell_type": "code",
      "source": [
        "accuracy = cross_val_score(extra_best_search, red_wine_prepared, y_train,\n",
        "                        scoring=\"accuracy\", cv=5)\n",
        "\n",
        "accuracy"
      ],
      "metadata": {
        "colab": {
          "base_uri": "https://localhost:8080/"
        },
        "outputId": "c7291479-4791-49ee-dc88-47e9d39d641d",
        "id": "M_Atyq1atHzc"
      },
      "execution_count": 215,
      "outputs": [
        {
          "output_type": "execute_result",
          "data": {
            "text/plain": [
              "array([0.71835443, 0.71202532, 0.75632911, 0.71518987, 0.73968254])"
            ]
          },
          "metadata": {},
          "execution_count": 215
        }
      ]
    },
    {
      "cell_type": "code",
      "source": [
        "y_pred = extra_best_search.predict(red_test)"
      ],
      "metadata": {
        "id": "C6pgXk_MtHzd"
      },
      "execution_count": 216,
      "outputs": []
    },
    {
      "cell_type": "code",
      "source": [
        "precision_score(y_test, y_pred, average = 'macro')"
      ],
      "metadata": {
        "colab": {
          "base_uri": "https://localhost:8080/"
        },
        "outputId": "b33ddb46-dcdd-4e30-92c8-9602c2cba660",
        "id": "Df45h4-ttHze"
      },
      "execution_count": 217,
      "outputs": [
        {
          "output_type": "execute_result",
          "data": {
            "text/plain": [
              "0.7833333333333333"
            ]
          },
          "metadata": {},
          "execution_count": 217
        }
      ]
    },
    {
      "cell_type": "code",
      "source": [
        "recall_score(y_test, y_pred, average='macro')"
      ],
      "metadata": {
        "colab": {
          "base_uri": "https://localhost:8080/"
        },
        "outputId": "32fd873f-31cc-427b-9b64-c5bdd9af7023",
        "id": "aHS4xyPOtHze"
      },
      "execution_count": 218,
      "outputs": [
        {
          "output_type": "execute_result",
          "data": {
            "text/plain": [
              "0.6944444444444443"
            ]
          },
          "metadata": {},
          "execution_count": 218
        }
      ]
    },
    {
      "cell_type": "code",
      "source": [
        "f1scoreextra = f1_score(y_test, y_pred, average='macro')\n",
        "f1scoreextra"
      ],
      "metadata": {
        "colab": {
          "base_uri": "https://localhost:8080/"
        },
        "outputId": "2be757f2-25a0-4556-fe31-ebeea0b29b62",
        "id": "DrGtmA7etHze"
      },
      "execution_count": 219,
      "outputs": [
        {
          "output_type": "execute_result",
          "data": {
            "text/plain": [
              "0.7241830065359478"
            ]
          },
          "metadata": {},
          "execution_count": 219
        }
      ]
    },
    {
      "cell_type": "code",
      "source": [
        "y_pred_proba = extra_best_search.predict_proba(red_test)"
      ],
      "metadata": {
        "id": "ZzLdaIpmt7RM"
      },
      "execution_count": 220,
      "outputs": []
    },
    {
      "cell_type": "code",
      "source": [
        "roc_auc_score(y_test, y_pred_proba, multi_class='ovr')"
      ],
      "metadata": {
        "colab": {
          "base_uri": "https://localhost:8080/"
        },
        "outputId": "99729940-41fc-47ca-f5c0-28f727c2aa8d",
        "id": "JWdyVCJKtHze"
      },
      "execution_count": 221,
      "outputs": [
        {
          "output_type": "execute_result",
          "data": {
            "text/plain": [
              "0.890956129926718"
            ]
          },
          "metadata": {},
          "execution_count": 221
        }
      ]
    },
    {
      "cell_type": "code",
      "source": [
        "conf_mx = confusion_matrix(y_test, y_pred)\n",
        "conf_mx"
      ],
      "metadata": {
        "colab": {
          "base_uri": "https://localhost:8080/"
        },
        "outputId": "3ddc9b60-d238-451d-aa43-da710acebd16",
        "id": "jr2yN2aAtHze"
      },
      "execution_count": 222,
      "outputs": [
        {
          "output_type": "execute_result",
          "data": {
            "text/plain": [
              "array([[6, 2, 0],\n",
              "       [3, 6, 0],\n",
              "       [1, 0, 2]])"
            ]
          },
          "metadata": {},
          "execution_count": 222
        }
      ]
    },
    {
      "cell_type": "code",
      "source": [
        "plt.matshow(conf_mx, cmap=plt.cm.pink)\n",
        "plt.show()"
      ],
      "metadata": {
        "colab": {
          "base_uri": "https://localhost:8080/",
          "height": 437
        },
        "outputId": "16edff33-38a4-4ae6-d531-004ee13680f8",
        "id": "64zVvsjAtHze"
      },
      "execution_count": 223,
      "outputs": [
        {
          "output_type": "display_data",
          "data": {
            "text/plain": [
              "<Figure size 480x480 with 1 Axes>"
            ],
            "image/png": "[encoded data removed]"
          },
          "metadata": {}
        }
      ]
    },
    {
      "cell_type": "code",
      "source": [
        "print(classification_report(y_test, y_pred))\n"
      ],
      "metadata": {
        "colab": {
          "base_uri": "https://localhost:8080/"
        },
        "outputId": "7a234b61-963b-41ad-fae9-9f23358f9960",
        "id": "qARM-CB2tHze"
      },
      "execution_count": 224,
      "outputs": [
        {
          "output_type": "stream",
          "name": "stdout",
          "text": [
            "              precision    recall  f1-score   support\n",
            "\n",
            "           0       0.60      0.75      0.67         8\n",
            "           1       0.75      0.67      0.71         9\n",
            "           2       1.00      0.67      0.80         3\n",
            "\n",
            "    accuracy                           0.70        20\n",
            "   macro avg       0.78      0.69      0.72        20\n",
            "weighted avg       0.73      0.70      0.70        20\n",
            "\n"
          ]
        }
      ]
    },
    {
      "cell_type": "code",
      "source": [
        "accuracy_trees = cross_val_score(extra_best_search, red_test, y_test,\n",
        "                        scoring=\"accuracy\", cv=5)\n",
        "\n",
        "accuracy_trees_default = cross_val_score(extra_cl, red_test, y_test,\n",
        "                        scoring=\"accuracy\", cv=5)\n",
        "\n",
        "print(\"Accuracy with hyperparameters: \" + str(accuracy_trees))\n",
        "print(\"Accuracy without hyperparameters: \" + str(accuracy_trees_default))\n",
        "\n",
        "print(\"F1 Score with hyperparameters: \" + str(f1scoreextra))\n",
        "print(\"F1 Score without hyperparameters: \" + str(f1_score_default))"
      ],
      "metadata": {
        "id": "6drr1uoJOP5X",
        "colab": {
          "base_uri": "https://localhost:8080/"
        },
        "outputId": "eb1ad801-da9d-48e9-9846-5105d834ca7a"
      },
      "execution_count": 225,
      "outputs": [
        {
          "output_type": "stream",
          "name": "stderr",
          "text": [
            "/usr/local/lib/python3.9/dist-packages/sklearn/model_selection/_split.py:700: UserWarning: The least populated class in y has only 3 members, which is less than n_splits=5.\n",
            "  warnings.warn(\n",
            "/usr/local/lib/python3.9/dist-packages/sklearn/model_selection/_split.py:700: UserWarning: The least populated class in y has only 3 members, which is less than n_splits=5.\n",
            "  warnings.warn(\n"
          ]
        },
        {
          "output_type": "stream",
          "name": "stdout",
          "text": [
            "Accuracy with hyperparameters: [1.   0.75 0.5  0.5  0.75]\n",
            "Accuracy without hyperparameters: [0.5  0.75 0.25 0.5  0.75]\n",
            "F1 Score with hyperparameters: 0.7241830065359478\n",
            "F1 Score without hyperparameters: 0.5381836945304438\n"
          ]
        }
      ]
    },
    {
      "cell_type": "markdown",
      "source": [
        "#6. Results"
      ],
      "metadata": {
        "id": "XEKWOPYOENFy"
      }
    },
    {
      "cell_type": "code",
      "source": [
        "print(\"SVC:\", min(svc_grid_search_results[0]))\n",
        "print(\"SVC F1 Score\", f1scoresvc)\n",
        "print(\"Random Forest Classifier: \", min(forest_grid_search_results[0]))\n",
        "print(\"Random Forest F1 Score\", f1scoreforest)\n",
        "print(\"Extra Trees Classifier: \",  min(extra_grid_search_results[0]))\n",
        "print(\"Extra Trees F1 Score\", f1scoreextra)\n",
        "\n",
        "\n",
        "print(\"\\n\\nBest F1 Score: \", max(f1scoresvc, f1scoreforest, f1scoreextra))\n",
        "print(\"Extra Trees Classifier\")"
      ],
      "metadata": {
        "id": "TpPMS_EfEOaW",
        "colab": {
          "base_uri": "https://localhost:8080/"
        },
        "outputId": "19679ba9-fa8a-49cf-b637-58a2cf562014"
      },
      "execution_count": 226,
      "outputs": [
        {
          "output_type": "stream",
          "name": "stdout",
          "text": [
            "SVC: 0.7595743258525768\n",
            "SVC F1 Score 0.7241830065359478\n",
            "Random Forest Classifier:  0.7037215575357104\n",
            "Random Forest F1 Score 0.7241830065359478\n",
            "Extra Trees Classifier:  0.7153333687244634\n",
            "Extra Trees F1 Score 0.7241830065359478\n",
            "\n",
            "\n",
            "Best F1 Score:  0.7241830065359478\n",
            "Extra Trees Classifier\n"
          ]
        }
      ]
    },
    {
      "cell_type": "markdown",
      "source": [
        "#7. Export Model"
      ],
      "metadata": {
        "id": "tj5eot8qHJvF"
      }
    },
    {
      "cell_type": "code",
      "source": [
        "import joblib\n",
        "joblib.dump (extra_best_search, \"my_model.pkl\")"
      ],
      "metadata": {
        "id": "q82GkzJ5G4Z5",
        "colab": {
          "base_uri": "https://localhost:8080/"
        },
        "outputId": "3542f174-2412-43c3-8fa0-7d4f1e49b52c"
      },
      "execution_count": 227,
      "outputs": [
        {
          "output_type": "execute_result",
          "data": {
            "text/plain": [
              "['my_model.pkl']"
            ]
          },
          "metadata": {},
          "execution_count": 227
        }
      ]
    },
    {
      "cell_type": "markdown",
      "source": [
        "#8. Conclusions"
      ],
      "metadata": {
        "id": "5vVMCx4qvMnu"
      }
    },
    {
      "cell_type": "markdown",
      "source": [
        "La matriz de confusión y el classification report de SVC sugieren que el modelo ha obtenido una precisión moderada en la clasificación de las muestras en las tres clases. La matriz de confusión muestra que el modelo ha clasificado correctamente la mayoría de las muestras de la clase 0 y 1, pero ha tenido dificultades en la clasificación de la clase 2, con solo 2 de las 3 muestras clasificadas correctamente. En general, el modelo SVM ha logrado una precisión aceptable en la clasificación de las muestras en las tres clases, con un F1 score de 0.724183006535947 con hiperparámetros. \n",
        "\n",
        "Random Forest ha logrado una precisión razonable en las tres clases. De los 8 casos de la clase 0, el modelo ha clasificado correctamente 6 de ellos, pero ha clasificado incorrectamente 2 casos de la clase 0. De los 9 casos de la clase 1, el modelo ha clasificado correctamente 6 de ellos y ha clasificado incorrectamente 3 casos de la clase 1. De los 3 casos de la clase 2, el modelo ha clasificado correctamente 2 de ellos y ha clasificado incorrectamente 1 caso de la clase 2. En general, el modelo Random Forest ha logrado una precisión aceptable en la clasificación de las tres clases.\n",
        "\n",
        "Extra Trees ha clasificado correctamente 6 de los 8 casos de la clase 0 y ha clasificado incorrectamente 2 de ellos como pertenecientes a la clase 1. Además, ha clasificado correctamente 6 de los 9 casos de la clase 1 y ha clasificado incorrectamente 3 de ellos como pertenecientes a la clase 0. Finalmente, el modelo ha clasificado correctamente 2 de los 3 casos de la clase 2 y ha clasificado incorrectamente 1 de ellos como perteneciente a la clase 0. En general, el modelo tiene un rendimiento aceptable en la clasificación de las tres clases, aunque puede haber margen de mejora, especialmente en la clasificación de los casos de la clase 0 y 1, donde se producen las principales confusiones.\n",
        "\n"
      ],
      "metadata": {
        "id": "5LRR8kHMvPS8"
      }
    }
  ],
  "metadata": {
    "colab": {
      "provenance": []
    },
    "kernelspec": {
      "display_name": "Python 3",
      "name": "python3"
    },
    "language_info": {
      "name": "python"
    }
  },
  "nbformat": 4,
  "nbformat_minor": 0
}